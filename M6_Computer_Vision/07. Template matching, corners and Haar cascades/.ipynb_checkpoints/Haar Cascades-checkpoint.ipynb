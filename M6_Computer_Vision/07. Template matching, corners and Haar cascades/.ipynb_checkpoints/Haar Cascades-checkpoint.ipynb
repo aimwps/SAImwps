{
 "cells": [
  {
   "cell_type": "code",
   "execution_count": 3,
   "metadata": {
    "ExecuteTime": {
     "end_time": "2019-11-21T08:38:42.318902Z",
     "start_time": "2019-11-21T08:38:42.311109Z"
    }
   },
   "outputs": [],
   "source": [
    "import cv2\n",
    "import numpy as np\n",
    "import matplotlib.pyplot as plt\n",
    "%matplotlib inline\n",
    "def ip(img_print):\n",
    "    if len(img_print.shape) == 2:\n",
    "        plt.figure(figsize=(20,15))\n",
    "        plt.imshow(img_print, cmap='gray')\n",
    "    else:\n",
    "        plt.figure(figsize=(15,10))\n",
    "        plt.imshow(img_print[:,:,::-1])\n",
    "    print(img_print.shape)\n",
    "\n",
    "def hsvp(img_print):\n",
    "    x =cv2.cvtColor(img_print, cv2.COLOR_2RGB)\n",
    "    plt.figure(figsize=(15,10))\n",
    "    plt.imshow(x)"
   ]
  },
  {
   "cell_type": "code",
   "execution_count": 4,
   "metadata": {},
   "outputs": [],
   "source": [
    "image = cv2.imread('img/people2.jpg');"
   ]
  },
  {
   "cell_type": "code",
   "execution_count": null,
   "metadata": {
    "ExecuteTime": {
     "end_time": "2019-11-21T10:18:47.907891Z",
     "start_time": "2019-11-21T10:18:33.678506Z"
    }
   },
   "outputs": [],
   "source": [
    "# Given the image above, lets detect faces on the image using haar cascades\n",
    "# First create a CascadeClassifier using the frontalFace classifier -> Haarcascades/haarcascade_frontalface_default.xml\n",
    "\n",
    "face_\n",
    "# Convert the image to grayscale\n",
    "\n",
    "\n",
    "# Using the classifiers detect all faces on the image\n",
    "\n",
    "\n",
    "# If no faces detected print(\"No faces found\")\n",
    "\n",
    "\n",
    "# Otherwise draw a rectangle on each face that has been detected\n"
   ]
  },
  {
   "cell_type": "code",
   "execution_count": null,
   "metadata": {
    "ExecuteTime": {
     "end_time": "2019-11-21T10:30:16.845982Z",
     "start_time": "2019-11-21T10:29:50.619207Z"
    }
   },
   "outputs": [],
   "source": [
    "# Repeat the process above with your own images\n"
   ]
  },
  {
   "cell_type": "code",
   "execution_count": null,
   "metadata": {},
   "outputs": [],
   "source": [
    "# Now do the same but this time also detect eyes in the faces using -> Haarcascades/haarcascade_eye.xml\n"
   ]
  },
  {
   "cell_type": "code",
   "execution_count": null,
   "metadata": {},
   "outputs": [],
   "source": [
    "# Encapsulate all the logic to detect faces and eyes in a function and apply it to live video using you webcam\n"
   ]
  }
 ],
 "metadata": {
  "kernelspec": {
   "display_name": "Python 3",
   "language": "python",
   "name": "python3"
  },
  "language_info": {
   "codemirror_mode": {
    "name": "ipython",
    "version": 3
   },
   "file_extension": ".py",
   "mimetype": "text/x-python",
   "name": "python",
   "nbconvert_exporter": "python",
   "pygments_lexer": "ipython3",
   "version": "3.9.4"
  }
 },
 "nbformat": 4,
 "nbformat_minor": 2
}
