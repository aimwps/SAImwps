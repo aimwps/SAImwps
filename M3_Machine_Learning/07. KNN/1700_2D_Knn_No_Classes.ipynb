{
 "cells": [
  {
   "cell_type": "markdown",
   "metadata": {},
   "source": [
    "# KNN From Sratch\n",
    "\n",
    "In this workbook we will guide you through the steps to implement KNN from scratch. Once this is done you'll implement you solution in a class that is tested with the knn_class_tester notebook.\n",
    "\n",
    "1. Use the ```make_blobs``` function from SKLearn to make a dataset to test your KNN functions.\n",
    "2. Create helper functions. These will be useful when you go to implement your class.\n",
    "    - Squaring the difference of two vectors.\n",
    "    - Summing the square differences and returning the square root.\n",
    "    - Calculating the euclidian distances\n",
    "    - An evaluation function to evalaute predictions\n",
    "3. Create the KNN predcit function"
   ]
  },
  {
   "cell_type": "code",
   "execution_count": 213,
   "metadata": {},
   "outputs": [],
   "source": [
    "#import libraries\n",
    "import numpy as np\n",
    "from collections import Counter\n",
    "import matplotlib.pyplot as plt\n",
    "from sklearn.datasets.samples_generator import make_blobs\n",
    "from sklearn.model_selection import train_test_split"
   ]
  },
  {
   "cell_type": "markdown",
   "metadata": {},
   "source": [
    "### Step 1: Create a sample dataset\n",
    "1. Use ```make_blobs``` to create a sample set\n",
    "2. Start with 300 samples, 4 centres, 0.6 standard deviation, and random state 0\n",
    "3. Plot the samples"
   ]
  },
  {
   "cell_type": "code",
   "execution_count": 214,
   "metadata": {},
   "outputs": [
    {
     "data": {
      "image/png": "[encoded data removed]",
      "text/plain": [
       "<Figure size 864x576 with 1 Axes>"
      ]
     },
     "metadata": {
      "needs_background": "light"
     },
     "output_type": "display_data"
    }
   ],
   "source": [
    "#make the dataset with make_blobs\n",
    "X,y = make_blobs(n_samples=300,centers=4,cluster_std=0.6,random_state=0)\n",
    "\n",
    "\n",
    "plt.figure(figsize=(12,8))\n",
    "plt.scatter(X[:,0],X[:,1], alpha=0.8)\n",
    "plt.show()"
   ]
  },
  {
   "cell_type": "markdown",
   "metadata": {},
   "source": [
    "# Step 2: Creating the KNN function\n",
    "Pseudocode below to help out! Note: **IT IS NOT ACTUAL CODE**"
   ]
  },
  {
   "cell_type": "code",
   "execution_count": 24,
   "metadata": {},
   "outputs": [
    {
     "name": "stdout",
     "output_type": "stream",
     "text": [
      "[[ 3.43761754  0.26165417]\n",
      " [-0.45677365  7.30600872]\n",
      " [-0.92226864  8.09888579]\n",
      " [ 1.61990909  0.06764529]\n",
      " [ 0.08151552  4.56742235]]\n",
      "(225, 2)\n",
      "(75, 2)\n",
      "(225,)\n",
      "(75,)\n"
     ]
    }
   ],
   "source": [
    "# define train test split\n",
    "#X_train\n",
    "#X_test\n",
    "#y_train\n",
    "#y_test\n",
    "X_train, X_test, y_train, y_test= train_test_split(X, y)\n",
    "\n",
    "print(X_train[0:5])\n",
    "print(X_train.shape)\n",
    "print(X_test.shape)\n",
    "print(y_train.shape)\n",
    "print(y_test.shape)"
   ]
  },
  {
   "cell_type": "code",
   "execution_count": 215,
   "metadata": {},
   "outputs": [
    {
     "name": "stdout",
     "output_type": "stream",
     "text": [
      "8.049174732527133\n"
     ]
    }
   ],
   "source": [
    "def get_eucledian_distance(v1,v2):\n",
    "    ### Passes in 2 rows of data, can have ndimensions\n",
    "    distance = 0\n",
    "    for i in range(v1.shape[0]) :\n",
    "        distance += (v1[i] - v2[i]) ** 2\n",
    "    return np.sqrt(distance)\n",
    "\n",
    "    # Eucledian Distance \n",
    "    ## The Square Root of\n",
    "    ### The Sum of\n",
    "    #### The square of row1(feature) - row2(feature)\n",
    "\n",
    "\n",
    "### Gets the distance from the fist point to the second point in the dataset\n",
    "print(get_eucledian_distance(X_train[0], X_train[1]))\n"
   ]
  },
  {
   "cell_type": "code",
   "execution_count": 216,
   "metadata": {},
   "outputs": [],
   "source": [
    "def get_all_distances(X_train, from_point, y_train):\n",
    "    distances = []\n",
    "    ## For a row in  the dataset find distances between all other rows.\n",
    "    ### Assign the X_test to that row also so when reordering takes place we don't rely on mismatched indexes\n",
    "    for i in range(X_train.shape[0]):\n",
    "        distance = get_eucledian_distance(X_train[i], from_point)\n",
    "        distances.append((distance, y_train[i]))\n",
    "    return distances\n",
    "test = get_all_distances(X_train, X_train[0], y_train)"
   ]
  },
  {
   "cell_type": "code",
   "execution_count": 217,
   "metadata": {},
   "outputs": [
    {
     "name": "stdout",
     "output_type": "stream",
     "text": [
      "[(0.6112414603903477, 1), (0.7765813235406184, 1), (0.8947695188814828, 1), (0.9022633834266985, 1), (1.046251379415219, 1), (1.0584165825130547, 1), (1.0634089156314297, 1)]\n"
     ]
    }
   ],
   "source": [
    "def select_neighbours(dist_list, k):\n",
    "    sl = sorted(dist_list, key=lambda tup: tup[0])\n",
    "    return sl[1:k+1]\n",
    "test = select_neighbours(get_all_distances(X_train, X_train[0], y_train), 7)\n",
    "print(test)"
   ]
  },
  {
   "cell_type": "code",
   "execution_count": 218,
   "metadata": {},
   "outputs": [
    {
     "data": {
      "text/plain": [
       "1"
      ]
     },
     "execution_count": 218,
     "metadata": {},
     "output_type": "execute_result"
    }
   ],
   "source": [
    "def find_label(final_n):\n",
    "    labels_only = [l[1] for l in final_n]\n",
    "    unique_labels = set(labels_only)\n",
    "    count_dict = {l:0 for l in unique_labels}\n",
    "    for label in labels_only:\n",
    "        count_dict[label] = count_dict[label] + 1\n",
    "    predicted_label = None\n",
    "    predicted_max = 0\n",
    "    for label, count in count_dict.items():\n",
    "        if count > predicted_max:\n",
    "            predicted_label = label\n",
    "            predicted_max = count\n",
    "    return predicted_label\n",
    "find_label(test)"
   ]
  },
  {
   "cell_type": "code",
   "execution_count": 220,
   "metadata": {},
   "outputs": [
    {
     "name": "stdout",
     "output_type": "stream",
     "text": [
      "Correct: 75, incorrect: 0, correctness: 1.0\n"
     ]
    },
    {
     "data": {
      "image/png": "[encoded data removed]",
      "text/plain": [
       "<Figure size 864x576 with 1 Axes>"
      ]
     },
     "metadata": {
      "needs_background": "light"
     },
     "output_type": "display_data"
    }
   ],
   "source": [
    "def KNN_train_predict(X_train, X_test, y_train, y_test, k):\n",
    "    predictions = []\n",
    "    # for each test case\n",
    "    # find the distance from the train cases\n",
    "    for i, row in enumerate(X_test):\n",
    "        dist_point_to_predict = get_all_distances(X_train, row, y_train)\n",
    "        find_neighbours = select_neighbours(dist_point_to_predict, k)\n",
    "        label = find_label(find_neighbours)\n",
    "        predictions.append((row, label))        \n",
    "    return predictions\n",
    "\n",
    "predictions = KNN_train_predict(X_train, X_test, y_train, y_test, 3)\n",
    "\n",
    "def score_predictions(X_test, y_test, predictions):\n",
    "    correct = 0\n",
    "    incorrect = 0\n",
    "    for xt, yt, p in zip(X_test, y_test, predictions):\n",
    "        #print(f\"XT: {xt}, P: {p}, YT: {yt}\")\n",
    "        if yt == p[1]:\n",
    "            correct += 1\n",
    "        else:\n",
    "            incorrect += 1\n",
    "    correctness = correct / (correct+incorrect)\n",
    "    print(f\"Correct: {correct}, incorrect: {incorrect}, correctness: {correctness}\")\n",
    "    return correctness\n",
    "        \n",
    "\n",
    "score_predictions(X_test, y_test, predictions)\n",
    "\n",
    "\n",
    "\n",
    "def graph_KNN(X_train, y_train, predictions):\n",
    "    plt.figure(figsize=(12,8))\n",
    "    \n",
    "    ### Split the classes into groups for labeling\n",
    "    train_classes = [[] for i in range(len(set(y_train)))]\n",
    "    for i in range(X_train.shape[0]):\n",
    "        group_idx = y_train[i]\n",
    "        train_classes[group_idx].append(X_train[i])\n",
    "        \n",
    "    plot_groups = []\n",
    "    for group in train_classes:\n",
    "        plot_groups.append(np.stack(group))\n",
    "        \n",
    "    for i, p in enumerate(plot_groups):\n",
    "        plt.scatter(p[:,0], p[:,1], label=f\"train_{i}\")\n",
    "        \n",
    "    #### Split the predictions into groups for plotting\n",
    "    \n",
    "    pred_classes = [[] for i in range(len(train_classes))]\n",
    "    \n",
    "    for i in range(len(predictions)):\n",
    "        pred_classes[predictions[i][1]].append(predictions[i][0])\n",
    "        \n",
    "    pred_groups = []\n",
    "    for group in pred_classes:\n",
    "        pred_groups.append(np.stack(group))\n",
    "    \n",
    "    for i, p in enumerate(pred_groups):\n",
    "        plt.scatter(p[:,0], p[:,1], label=f\"pred_{i}\")\n",
    "        \n",
    "    \n",
    "    plt.legend()\n",
    "    \n",
    "    plt.show()\n",
    "\n",
    "graph_KNN(X_train, y_train, predictions)\n",
    "        "
   ]
  },
  {
   "cell_type": "code",
   "execution_count": null,
   "metadata": {},
   "outputs": [],
   "source": []
  },
  {
   "cell_type": "code",
   "execution_count": null,
   "metadata": {},
   "outputs": [],
   "source": []
  }
 ],
 "metadata": {
  "kernelspec": {
   "display_name": "Python 3",
   "language": "python",
   "name": "python3"
  },
  "language_info": {
   "codemirror_mode": {
    "name": "ipython",
    "version": 3
   },
   "file_extension": ".py",
   "mimetype": "text/x-python",
   "name": "python",
   "nbconvert_exporter": "python",
   "pygments_lexer": "ipython3",
   "version": "3.8.8"
  }
 },
 "nbformat": 4,
 "nbformat_minor": 4
}
