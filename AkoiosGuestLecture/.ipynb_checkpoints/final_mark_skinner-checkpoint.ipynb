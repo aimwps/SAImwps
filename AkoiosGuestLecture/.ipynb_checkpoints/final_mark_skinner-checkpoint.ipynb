{
 "cells": [
  {
   "cell_type": "markdown",
   "metadata": {},
   "source": [
    "```yaml\n",
    "titan: v1\n",
    "service:\n",
    "  image: scipy\n",
    "  machine:\n",
    "    cpu: 4\n",
    "    memory: 2048MB\n",
    "  command:\n",
    "      - !pip install requirements.txt\n",
    "\n",
    "```"
   ]
  },
  {
   "cell_type": "code",
   "execution_count": 14,
   "metadata": {},
   "outputs": [],
   "source": [
    "import pandas as pd\n",
    "import json\n",
    "from sklearn.ensemble import RandomForestRegressor\n",
    "from sklearn import pipeline, preprocessing, impute, compose\n",
    "from sklearn.model_selection import train_test_split\n",
    "\n",
    "tree_regressors = {\n",
    "    \"Random_forest_regressor\": RandomForestRegressor(),\n",
    "        }"
   ]
  },
  {
   "cell_type": "code",
   "execution_count": 15,
   "metadata": {
    "colab": {},
    "colab_type": "code",
    "id": "L7PfjAHHE79d"
   },
   "outputs": [],
   "source": [
    "# Reading the dataset from a Gitlab repo\n",
    "url = \"https://storage.googleapis.com/tutorial-datasets/weather_data_GER_2016.csv\"\n",
    "weather = pd.read_csv(url)"
   ]
  },
  {
   "cell_type": "code",
   "execution_count": 16,
   "metadata": {
    "colab": {},
    "colab_type": "code",
    "id": "9_J-x-igF6Aw"
   },
   "outputs": [],
   "source": [
    "# Reading the dataset from a Gitlab repo\n",
    "url = \"https://storage.googleapis.com/tutorial-datasets/time_series_60min_singleindex_filtered.csv\"\n",
    "production = pd.read_csv(url)\n"
   ]
  },
  {
   "cell_type": "code",
   "execution_count": 17,
   "metadata": {
    "colab": {},
    "colab_type": "code",
    "id": "Ze2TvJKqHEMK"
   },
   "outputs": [],
   "source": [
    "# Merge datasets\n",
    "weather_by_day = weather.groupby(weather.index).mean()\n",
    "combined = pd.merge(production, weather_by_day, how='left', left_index=True, right_index=True)"
   ]
  },
  {
   "cell_type": "code",
   "execution_count": 18,
   "metadata": {
    "colab": {},
    "colab_type": "code",
    "id": "FxbWKlzpIOD_"
   },
   "outputs": [],
   "source": [
    "num_vars = ['v1', 'v2', 'v_50m', 'z0','T', 'rho', 'p', 'lat', 'lon']\n",
    "X_wind = combined[num_vars]\n",
    "#X_wind = combined[['v1', 'v2', 'v_50m']]\n",
    "#X_wind = combined[['v1', 'v2']]\n",
    "y_wind = combined['DE_wind_generation_actual']\n",
    "cat_vars = []\n"
   ]
  },
  {
   "cell_type": "code",
   "execution_count": 19,
   "metadata": {},
   "outputs": [],
   "source": [
    "x_train, x_val, y_train, y_val = train_test_split(X_wind, y_wind, test_size=0.3, random_state=909)"
   ]
  },
  {
   "cell_type": "code",
   "execution_count": 20,
   "metadata": {},
   "outputs": [],
   "source": [
    "num_4_treeModels = pipeline.Pipeline(steps=[\n",
    "    ('imputer', impute.SimpleImputer(strategy='mean', add_indicator=False))]) # mean, median\n",
    "\n",
    "cat_4_treeModels = pipeline.Pipeline(steps=[\n",
    "    ('imputer', impute.SimpleImputer(strategy='constant', fill_value='missing')),])\n",
    "\n",
    "tree_prepro = compose.ColumnTransformer(transformers=[\n",
    "    ('num', num_4_treeModels, num_vars),\n",
    "    ('cat', cat_4_treeModels, cat_vars),],\n",
    "    remainder='drop')\n",
    "                          "
   ]
  },
  {
   "cell_type": "code",
   "execution_count": 21,
   "metadata": {},
   "outputs": [],
   "source": [
    "all_tree_pipes = {name: pipeline.make_pipeline(tree_prepro, model) for name, model in tree_regressors.items()}"
   ]
  },
  {
   "cell_type": "code",
   "execution_count": 22,
   "metadata": {},
   "outputs": [
    {
     "data": {
      "text/plain": [
       "Pipeline(steps=[('columntransformer',\n",
       "                 ColumnTransformer(transformers=[('num',\n",
       "                                                  Pipeline(steps=[('imputer',\n",
       "                                                                   SimpleImputer())]),\n",
       "                                                  ['v1', 'v2', 'v_50m', 'z0',\n",
       "                                                   'T', 'rho', 'p', 'lat',\n",
       "                                                   'lon']),\n",
       "                                                 ('cat',\n",
       "                                                  Pipeline(steps=[('imputer',\n",
       "                                                                   SimpleImputer(fill_value='missing',\n",
       "                                                                                 strategy='constant'))]),\n",
       "                                                  [])])),\n",
       "                ('randomforestregressor', RandomForestRegressor())])"
      ]
     },
     "execution_count": 22,
     "metadata": {},
     "output_type": "execute_result"
    }
   ],
   "source": [
    "# Model fitting and initialization\n",
    "model = all_tree_pipes[\"Random_forest_regressor\"]\n",
    "model.fit(X_wind, y_wind)"
   ]
  },
  {
   "cell_type": "code",
   "execution_count": 23,
   "metadata": {
    "colab": {},
    "colab_type": "code",
    "id": "K3GJcgNJCQPJ"
   },
   "outputs": [],
   "source": [
    "# Mock request object for local API testing \n",
    "headers = {\n",
    "'content-type': 'application/json'\n",
    "}\n",
    "body = json.dumps({\n",
    "  \"data\": [[1.44, 1.77, 2, 0.054, 277.35, 1.229, 99300.89123, 47.5, 6.25]]\n",
    "})\n",
    "REQUEST = json.dumps({ 'headers': headers, 'body': body })"
   ]
  },
  {
   "cell_type": "code",
   "execution_count": 24,
   "metadata": {
    "ExecuteTime": {
     "end_time": "2021-07-13T19:29:06.473549Z",
     "start_time": "2021-07-13T19:29:06.394461Z"
    },
    "colab": {
     "base_uri": "https://localhost:8080/",
     "height": 34
    },
    "colab_type": "code",
    "executionInfo": {
     "elapsed": 1058,
     "status": "ok",
     "timestamp": 1580751290135,
     "user": {
      "displayName": "Javier Fuentes Ibáñez",
      "photoUrl": "https://lh3.googleusercontent.com/a-/AAuE7mBoMcBzbjtRUR1TJGkAccQaDoQ_RHn6n04zVoLA=s64",
      "userId": "07330169876145884685"
     },
     "user_tz": -60
    },
    "id": "Pm5bvzlxIfbi",
    "outputId": "81514239-d671-46f9-a2f0-29f0e5159e38"
   },
   "outputs": [
    {
     "name": "stdout",
     "output_type": "stream",
     "text": [
      "[10460.46]\n"
     ]
    }
   ],
   "source": [
    "# POST /prediction\n",
    "body = json.loads(REQUEST)['body']\n",
    "# predict the cluster for new samples. Function to be exposed through Titan\n",
    "input_params = json.loads(body)['data']\n",
    "\n",
    "#input_params = [[0.44, 1.77, 2, 0.054]]\n",
    "d = pd.DataFrame(input_params, columns=['v1', 'v2', 'v_50m', 'z0','T', 'rho', 'p', 'lat', 'lon'])\n",
    "print(model.predict(d))"
   ]
  },
  {
   "cell_type": "code",
   "execution_count": null,
   "metadata": {},
   "outputs": [],
   "source": []
  },
  {
   "cell_type": "code",
   "execution_count": null,
   "metadata": {},
   "outputs": [],
   "source": []
  }
 ],
 "metadata": {
  "colab": {
   "collapsed_sections": [],
   "name": "energy_generation_kpmg.ipynb",
   "provenance": []
  },
  "kernelspec": {
   "display_name": "Python 3",
   "language": "python",
   "name": "python3"
  },
  "language_info": {
   "codemirror_mode": {
    "name": "ipython",
    "version": 3
   },
   "file_extension": ".py",
   "mimetype": "text/x-python",
   "name": "python",
   "nbconvert_exporter": "python",
   "pygments_lexer": "ipython3",
   "version": "3.8.0"
  },
  "varInspector": {
   "cols": {
    "lenName": 16,
    "lenType": 16,
    "lenVar": 40
   },
   "kernels_config": {
    "python": {
     "delete_cmd_postfix": "",
     "delete_cmd_prefix": "del ",
     "library": "var_list.py",
     "varRefreshCmd": "print(var_dic_list())"
    },
    "r": {
     "delete_cmd_postfix": ") ",
     "delete_cmd_prefix": "rm(",
     "library": "var_list.r",
     "varRefreshCmd": "cat(var_dic_list()) "
    }
   },
   "types_to_exclude": [
    "module",
    "function",
    "builtin_function_or_method",
    "instance",
    "_Feature"
   ],
   "window_display": false
  }
 },
 "nbformat": 4,
 "nbformat_minor": 1
}
