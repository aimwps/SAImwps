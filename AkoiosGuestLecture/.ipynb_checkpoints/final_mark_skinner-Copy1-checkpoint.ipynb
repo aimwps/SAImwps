{
 "cells": [
  {
   "cell_type": "markdown",
   "metadata": {},
   "source": [
    "```yaml\n",
    "titan: v1\n",
    "service:\n",
    "  image: scipy\n",
    "  machine:\n",
    "    cpu: 2\n",
    "    memory: 1024MB\n",
    "```"
   ]
  },
  {
   "cell_type": "code",
   "execution_count": 17,
   "metadata": {},
   "outputs": [],
   "source": [
    "import pandas as pd\n",
    "from sklearn.linear_model import LinearRegression\n",
    "import json\n",
    "from sklearn.tree               import DecisionTreeRegressor\n",
    "from sklearn.ensemble           import ExtraTreesRegressor, AdaBoostRegressor, RandomForestRegressor, GradientBoostingRegressor\n",
    "from sklearn.neural_network     import MLPRegressor\n",
    "from sklearn.svm                import SVR\n",
    "from sklearn.linear_model       import Ridge, Lasso, SGDRegressor, BayesianRidge\n",
    "from sklearn.neighbors          import KNeighborsRegressor, RadiusNeighborsRegressor\n",
    "from sklearn.experimental       import enable_hist_gradient_boosting\n",
    "from sklearn.ensemble           import HistGradientBoostingRegressor\n",
    "from sklearn import pipeline      \n",
    "from sklearn import preprocessing \n",
    "from sklearn import impute\n",
    "from sklearn import compose\n",
    "from sklearn import metrics\n",
    "import numpy as np\n",
    "import time\n",
    "\n",
    "#from lightgbm                   import LGBMRegressor\n",
    "from sklearn.model_selection import train_test_split\n",
    "tree_regressors = {\n",
    "    \"Decision_tree_regressor\": DecisionTreeRegressor(),\n",
    "    #\"AdaBoost_regressor\": AdaBoostRegressor(),\n",
    "    \"Extra_trees_regressor\": ExtraTreesRegressor(),\n",
    "    \"Random_forest_regressor\": RandomForestRegressor(),\n",
    "    \"GBM_regressor\": GradientBoostingRegressor(), \n",
    "    \"HGB_regressor\": HistGradientBoostingRegressor(),\n",
    "    #\"CATBoost_regressor\": CatBoostRegressor(verbose=0),\n",
    "    #\"lightgbm_regressor\": LGBMRegressor(),\n",
    "        }\n",
    "mult_regressors = {\n",
    "    \"Linear_regression\": LinearRegression(), \n",
    "    \"Ridge_regressor\": Ridge(),\n",
    "    \"SVM_regressor\": SVR(), \n",
    "    \"MLP_regressor\": MLPRegressor(learning_rate=\"adaptive\", max_iter=10000),\n",
    "    \"SGD_regressor\": SGDRegressor(),\n",
    "    \"KNN_regressor\": KNeighborsRegressor(),\n",
    "    \"BR_regressor\" : BayesianRidge(),\n",
    "    \"RNN_regressor\": RadiusNeighborsRegressor(), \n",
    "        }\n"
   ]
  },
  {
   "cell_type": "code",
   "execution_count": 2,
   "metadata": {
    "colab": {},
    "colab_type": "code",
    "id": "L7PfjAHHE79d"
   },
   "outputs": [],
   "source": [
    "# Reading the dataset from a Gitlab repo\n",
    "url = \"https://storage.googleapis.com/tutorial-datasets/weather_data_GER_2016.csv\"\n",
    "weather = pd.read_csv(url)"
   ]
  },
  {
   "cell_type": "code",
   "execution_count": 3,
   "metadata": {
    "colab": {
     "base_uri": "https://localhost:8080/",
     "height": 204
    },
    "colab_type": "code",
    "executionInfo": {
     "elapsed": 1231,
     "status": "ok",
     "timestamp": 1580749809465,
     "user": {
      "displayName": "Javier Fuentes Ibáñez",
      "photoUrl": "https://lh3.googleusercontent.com/a-/AAuE7mBoMcBzbjtRUR1TJGkAccQaDoQ_RHn6n04zVoLA=s64",
      "userId": "07330169876145884685"
     },
     "user_tz": -60
    },
    "id": "JeMkGy18FQVc",
    "outputId": "9d99da02-5722-48f3-e9e2-c827c319e507"
   },
   "outputs": [
    {
     "data": {
      "text/html": [
       "<div>\n",
       "<style scoped>\n",
       "    .dataframe tbody tr th:only-of-type {\n",
       "        vertical-align: middle;\n",
       "    }\n",
       "\n",
       "    .dataframe tbody tr th {\n",
       "        vertical-align: top;\n",
       "    }\n",
       "\n",
       "    .dataframe thead th {\n",
       "        text-align: right;\n",
       "    }\n",
       "</style>\n",
       "<table border=\"1\" class=\"dataframe\">\n",
       "  <thead>\n",
       "    <tr style=\"text-align: right;\">\n",
       "      <th></th>\n",
       "      <th>timestamp</th>\n",
       "      <th>cumulated hours</th>\n",
       "      <th>lat</th>\n",
       "      <th>lon</th>\n",
       "      <th>v1</th>\n",
       "      <th>v2</th>\n",
       "      <th>v_50m</th>\n",
       "      <th>h1</th>\n",
       "      <th>h2</th>\n",
       "      <th>z0</th>\n",
       "      <th>SWTDN</th>\n",
       "      <th>SWGDN</th>\n",
       "      <th>T</th>\n",
       "      <th>rho</th>\n",
       "      <th>p</th>\n",
       "    </tr>\n",
       "  </thead>\n",
       "  <tbody>\n",
       "    <tr>\n",
       "      <th>0</th>\n",
       "      <td>2016-01-01T00:00:00Z</td>\n",
       "      <td>0</td>\n",
       "      <td>47.5</td>\n",
       "      <td>5.625</td>\n",
       "      <td>0.81</td>\n",
       "      <td>1.88</td>\n",
       "      <td>3.36</td>\n",
       "      <td>2</td>\n",
       "      <td>10</td>\n",
       "      <td>0.052526</td>\n",
       "      <td>0.0</td>\n",
       "      <td>0.0</td>\n",
       "      <td>277.350159</td>\n",
       "      <td>1.236413</td>\n",
       "      <td>99282.710938</td>\n",
       "    </tr>\n",
       "    <tr>\n",
       "      <th>1</th>\n",
       "      <td>2016-01-01T01:00:00Z</td>\n",
       "      <td>1</td>\n",
       "      <td>47.5</td>\n",
       "      <td>5.625</td>\n",
       "      <td>0.77</td>\n",
       "      <td>1.61</td>\n",
       "      <td>2.63</td>\n",
       "      <td>2</td>\n",
       "      <td>10</td>\n",
       "      <td>0.052510</td>\n",
       "      <td>0.0</td>\n",
       "      <td>0.0</td>\n",
       "      <td>277.025665</td>\n",
       "      <td>1.239390</td>\n",
       "      <td>99300.164062</td>\n",
       "    </tr>\n",
       "    <tr>\n",
       "      <th>2</th>\n",
       "      <td>2016-01-01T02:00:00Z</td>\n",
       "      <td>2</td>\n",
       "      <td>47.5</td>\n",
       "      <td>5.625</td>\n",
       "      <td>0.66</td>\n",
       "      <td>1.22</td>\n",
       "      <td>1.89</td>\n",
       "      <td>2</td>\n",
       "      <td>10</td>\n",
       "      <td>0.052495</td>\n",
       "      <td>0.0</td>\n",
       "      <td>0.0</td>\n",
       "      <td>277.223755</td>\n",
       "      <td>1.243861</td>\n",
       "      <td>99310.992188</td>\n",
       "    </tr>\n",
       "    <tr>\n",
       "      <th>3</th>\n",
       "      <td>2016-01-01T03:00:00Z</td>\n",
       "      <td>3</td>\n",
       "      <td>47.5</td>\n",
       "      <td>5.625</td>\n",
       "      <td>0.96</td>\n",
       "      <td>1.35</td>\n",
       "      <td>1.62</td>\n",
       "      <td>2</td>\n",
       "      <td>10</td>\n",
       "      <td>0.052480</td>\n",
       "      <td>0.0</td>\n",
       "      <td>0.0</td>\n",
       "      <td>277.133240</td>\n",
       "      <td>1.247390</td>\n",
       "      <td>99314.773438</td>\n",
       "    </tr>\n",
       "    <tr>\n",
       "      <th>4</th>\n",
       "      <td>2016-01-01T04:00:00Z</td>\n",
       "      <td>4</td>\n",
       "      <td>47.5</td>\n",
       "      <td>5.625</td>\n",
       "      <td>1.14</td>\n",
       "      <td>1.56</td>\n",
       "      <td>1.83</td>\n",
       "      <td>2</td>\n",
       "      <td>10</td>\n",
       "      <td>0.052480</td>\n",
       "      <td>0.0</td>\n",
       "      <td>0.0</td>\n",
       "      <td>276.867767</td>\n",
       "      <td>1.248869</td>\n",
       "      <td>99324.796875</td>\n",
       "    </tr>\n",
       "  </tbody>\n",
       "</table>\n",
       "</div>"
      ],
      "text/plain": [
       "              timestamp  cumulated hours   lat    lon    v1    v2  v_50m  h1  \\\n",
       "0  2016-01-01T00:00:00Z                0  47.5  5.625  0.81  1.88   3.36   2   \n",
       "1  2016-01-01T01:00:00Z                1  47.5  5.625  0.77  1.61   2.63   2   \n",
       "2  2016-01-01T02:00:00Z                2  47.5  5.625  0.66  1.22   1.89   2   \n",
       "3  2016-01-01T03:00:00Z                3  47.5  5.625  0.96  1.35   1.62   2   \n",
       "4  2016-01-01T04:00:00Z                4  47.5  5.625  1.14  1.56   1.83   2   \n",
       "\n",
       "   h2        z0  SWTDN  SWGDN           T       rho             p  \n",
       "0  10  0.052526    0.0    0.0  277.350159  1.236413  99282.710938  \n",
       "1  10  0.052510    0.0    0.0  277.025665  1.239390  99300.164062  \n",
       "2  10  0.052495    0.0    0.0  277.223755  1.243861  99310.992188  \n",
       "3  10  0.052480    0.0    0.0  277.133240  1.247390  99314.773438  \n",
       "4  10  0.052480    0.0    0.0  276.867767  1.248869  99324.796875  "
      ]
     },
     "execution_count": 3,
     "metadata": {},
     "output_type": "execute_result"
    }
   ],
   "source": [
    "weather.head()"
   ]
  },
  {
   "cell_type": "markdown",
   "metadata": {
    "colab_type": "text",
    "id": "W8YWeKMwFmzs"
   },
   "source": [
    "Next, we read the weather data for Germany in 2016 by reading the full csv file.\n",
    "\n",
    "The data in the file contains the following:\n",
    "\n",
    "* wind\n",
    "  * v1: velocity [m/s] @ height h1 (2 meters above displacement height)\n",
    "  * v2: velocity [m/s] @ height h2 (10 meters above displacement height)\n",
    "  * v_50m: velocity [m/s] @ 50 meters above ground\n",
    "  * h1: height above ground [m] (h1 = displacement height +2m)\n",
    "  * h2: height above ground [m] (h2 = displacement height +10m)\n",
    "  * z0: roughness length [m]\n",
    "* solar parameters:\n",
    "  * SWTDN: total top-of-the-atmosphere horizontal radiation [W/m²]\n",
    "  * SWGDN: total ground horizontal radiation [W/m²]\n",
    "* temperature data\n",
    "  * T: Temperature [K] @ 2 meters above displacement height (see h1)\n",
    "* air data\n",
    "  * Rho: air density [kg/m³] @ surface\n",
    "  *p: air pressure [Pa] @ surface"
   ]
  },
  {
   "cell_type": "code",
   "execution_count": 4,
   "metadata": {
    "colab": {},
    "colab_type": "code",
    "id": "9_J-x-igF6Aw"
   },
   "outputs": [],
   "source": [
    "# Reading the dataset from a Gitlab repo\n",
    "url = \"https://storage.googleapis.com/tutorial-datasets/time_series_60min_singleindex_filtered.csv\"\n",
    "production = pd.read_csv(url)\n"
   ]
  },
  {
   "cell_type": "code",
   "execution_count": 5,
   "metadata": {
    "colab": {
     "base_uri": "https://localhost:8080/",
     "height": 204
    },
    "colab_type": "code",
    "executionInfo": {
     "elapsed": 2274,
     "status": "ok",
     "timestamp": 1580749817480,
     "user": {
      "displayName": "Javier Fuentes Ibáñez",
      "photoUrl": "https://lh3.googleusercontent.com/a-/AAuE7mBoMcBzbjtRUR1TJGkAccQaDoQ_RHn6n04zVoLA=s64",
      "userId": "07330169876145884685"
     },
     "user_tz": -60
    },
    "id": "68iV2_LFG_7u",
    "outputId": "ab0831ae-2bf0-410d-b551-8ea9868dde40"
   },
   "outputs": [
    {
     "data": {
      "text/html": [
       "<div>\n",
       "<style scoped>\n",
       "    .dataframe tbody tr th:only-of-type {\n",
       "        vertical-align: middle;\n",
       "    }\n",
       "\n",
       "    .dataframe tbody tr th {\n",
       "        vertical-align: top;\n",
       "    }\n",
       "\n",
       "    .dataframe thead th {\n",
       "        text-align: right;\n",
       "    }\n",
       "</style>\n",
       "<table border=\"1\" class=\"dataframe\">\n",
       "  <thead>\n",
       "    <tr style=\"text-align: right;\">\n",
       "      <th></th>\n",
       "      <th>utc_timestamp</th>\n",
       "      <th>cet_cest_timestamp</th>\n",
       "      <th>DE_wind_generation_actual</th>\n",
       "    </tr>\n",
       "  </thead>\n",
       "  <tbody>\n",
       "    <tr>\n",
       "      <th>0</th>\n",
       "      <td>2015-12-31T23:00:00Z</td>\n",
       "      <td>2016-01-01T00:00:00+0100</td>\n",
       "      <td>8638</td>\n",
       "    </tr>\n",
       "    <tr>\n",
       "      <th>1</th>\n",
       "      <td>2016-01-01T00:00:00Z</td>\n",
       "      <td>2016-01-01T01:00:00+0100</td>\n",
       "      <td>8579</td>\n",
       "    </tr>\n",
       "    <tr>\n",
       "      <th>2</th>\n",
       "      <td>2016-01-01T01:00:00Z</td>\n",
       "      <td>2016-01-01T02:00:00+0100</td>\n",
       "      <td>8542</td>\n",
       "    </tr>\n",
       "    <tr>\n",
       "      <th>3</th>\n",
       "      <td>2016-01-01T02:00:00Z</td>\n",
       "      <td>2016-01-01T03:00:00+0100</td>\n",
       "      <td>8443</td>\n",
       "    </tr>\n",
       "    <tr>\n",
       "      <th>4</th>\n",
       "      <td>2016-01-01T03:00:00Z</td>\n",
       "      <td>2016-01-01T04:00:00+0100</td>\n",
       "      <td>8295</td>\n",
       "    </tr>\n",
       "  </tbody>\n",
       "</table>\n",
       "</div>"
      ],
      "text/plain": [
       "          utc_timestamp        cet_cest_timestamp  DE_wind_generation_actual\n",
       "0  2015-12-31T23:00:00Z  2016-01-01T00:00:00+0100                       8638\n",
       "1  2016-01-01T00:00:00Z  2016-01-01T01:00:00+0100                       8579\n",
       "2  2016-01-01T01:00:00Z  2016-01-01T02:00:00+0100                       8542\n",
       "3  2016-01-01T02:00:00Z  2016-01-01T03:00:00+0100                       8443\n",
       "4  2016-01-01T03:00:00Z  2016-01-01T04:00:00+0100                       8295"
      ]
     },
     "execution_count": 5,
     "metadata": {},
     "output_type": "execute_result"
    }
   ],
   "source": [
    "production.head()\n"
   ]
  },
  {
   "cell_type": "code",
   "execution_count": 6,
   "metadata": {
    "colab": {},
    "colab_type": "code",
    "id": "Ze2TvJKqHEMK"
   },
   "outputs": [
    {
     "name": "stdout",
     "output_type": "stream",
     "text": [
      "utc_timestamp                0\n",
      "cet_cest_timestamp           0\n",
      "DE_wind_generation_actual    0\n",
      "cumulated hours              0\n",
      "lat                          0\n",
      "lon                          0\n",
      "v1                           0\n",
      "v2                           0\n",
      "v_50m                        0\n",
      "h1                           0\n",
      "h2                           0\n",
      "z0                           0\n",
      "SWTDN                        0\n",
      "SWGDN                        0\n",
      "T                            0\n",
      "rho                          0\n",
      "p                            0\n",
      "dtype: int64\n",
      "8784\n"
     ]
    }
   ],
   "source": [
    "# Merge datasets\n",
    "weather_by_day = weather.groupby(weather.index).mean()\n",
    "combined = pd.merge(production, weather_by_day, how='left', left_index=True, right_index=True)\n",
    "\n",
    "print(combined.isna().sum())\n",
    "print(len(combined))"
   ]
  },
  {
   "cell_type": "code",
   "execution_count": 7,
   "metadata": {
    "colab": {
     "base_uri": "https://localhost:8080/",
     "height": 204
    },
    "colab_type": "code",
    "executionInfo": {
     "elapsed": 2525,
     "status": "ok",
     "timestamp": 1580749825369,
     "user": {
      "displayName": "Javier Fuentes Ibáñez",
      "photoUrl": "https://lh3.googleusercontent.com/a-/AAuE7mBoMcBzbjtRUR1TJGkAccQaDoQ_RHn6n04zVoLA=s64",
      "userId": "07330169876145884685"
     },
     "user_tz": -60
    },
    "id": "yRDcXPNWIDzV",
    "outputId": "5a155a68-0b1e-4210-a6c9-d4812b405ecf"
   },
   "outputs": [
    {
     "data": {
      "text/html": [
       "<div>\n",
       "<style scoped>\n",
       "    .dataframe tbody tr th:only-of-type {\n",
       "        vertical-align: middle;\n",
       "    }\n",
       "\n",
       "    .dataframe tbody tr th {\n",
       "        vertical-align: top;\n",
       "    }\n",
       "\n",
       "    .dataframe thead th {\n",
       "        text-align: right;\n",
       "    }\n",
       "</style>\n",
       "<table border=\"1\" class=\"dataframe\">\n",
       "  <thead>\n",
       "    <tr style=\"text-align: right;\">\n",
       "      <th></th>\n",
       "      <th>utc_timestamp</th>\n",
       "      <th>cet_cest_timestamp</th>\n",
       "      <th>DE_wind_generation_actual</th>\n",
       "      <th>cumulated hours</th>\n",
       "      <th>lat</th>\n",
       "      <th>lon</th>\n",
       "      <th>v1</th>\n",
       "      <th>v2</th>\n",
       "      <th>v_50m</th>\n",
       "      <th>h1</th>\n",
       "      <th>h2</th>\n",
       "      <th>z0</th>\n",
       "      <th>SWTDN</th>\n",
       "      <th>SWGDN</th>\n",
       "      <th>T</th>\n",
       "      <th>rho</th>\n",
       "      <th>p</th>\n",
       "    </tr>\n",
       "  </thead>\n",
       "  <tbody>\n",
       "    <tr>\n",
       "      <th>0</th>\n",
       "      <td>2015-12-31T23:00:00Z</td>\n",
       "      <td>2016-01-01T00:00:00+0100</td>\n",
       "      <td>8638</td>\n",
       "      <td>0</td>\n",
       "      <td>47.5</td>\n",
       "      <td>5.625</td>\n",
       "      <td>0.81</td>\n",
       "      <td>1.88</td>\n",
       "      <td>3.36</td>\n",
       "      <td>2</td>\n",
       "      <td>10</td>\n",
       "      <td>0.052526</td>\n",
       "      <td>0.0</td>\n",
       "      <td>0.0</td>\n",
       "      <td>277.350159</td>\n",
       "      <td>1.236413</td>\n",
       "      <td>99282.710938</td>\n",
       "    </tr>\n",
       "    <tr>\n",
       "      <th>1</th>\n",
       "      <td>2016-01-01T00:00:00Z</td>\n",
       "      <td>2016-01-01T01:00:00+0100</td>\n",
       "      <td>8579</td>\n",
       "      <td>1</td>\n",
       "      <td>47.5</td>\n",
       "      <td>5.625</td>\n",
       "      <td>0.77</td>\n",
       "      <td>1.61</td>\n",
       "      <td>2.63</td>\n",
       "      <td>2</td>\n",
       "      <td>10</td>\n",
       "      <td>0.052510</td>\n",
       "      <td>0.0</td>\n",
       "      <td>0.0</td>\n",
       "      <td>277.025665</td>\n",
       "      <td>1.239390</td>\n",
       "      <td>99300.164062</td>\n",
       "    </tr>\n",
       "    <tr>\n",
       "      <th>2</th>\n",
       "      <td>2016-01-01T01:00:00Z</td>\n",
       "      <td>2016-01-01T02:00:00+0100</td>\n",
       "      <td>8542</td>\n",
       "      <td>2</td>\n",
       "      <td>47.5</td>\n",
       "      <td>5.625</td>\n",
       "      <td>0.66</td>\n",
       "      <td>1.22</td>\n",
       "      <td>1.89</td>\n",
       "      <td>2</td>\n",
       "      <td>10</td>\n",
       "      <td>0.052495</td>\n",
       "      <td>0.0</td>\n",
       "      <td>0.0</td>\n",
       "      <td>277.223755</td>\n",
       "      <td>1.243861</td>\n",
       "      <td>99310.992188</td>\n",
       "    </tr>\n",
       "    <tr>\n",
       "      <th>3</th>\n",
       "      <td>2016-01-01T02:00:00Z</td>\n",
       "      <td>2016-01-01T03:00:00+0100</td>\n",
       "      <td>8443</td>\n",
       "      <td>3</td>\n",
       "      <td>47.5</td>\n",
       "      <td>5.625</td>\n",
       "      <td>0.96</td>\n",
       "      <td>1.35</td>\n",
       "      <td>1.62</td>\n",
       "      <td>2</td>\n",
       "      <td>10</td>\n",
       "      <td>0.052480</td>\n",
       "      <td>0.0</td>\n",
       "      <td>0.0</td>\n",
       "      <td>277.133240</td>\n",
       "      <td>1.247390</td>\n",
       "      <td>99314.773438</td>\n",
       "    </tr>\n",
       "    <tr>\n",
       "      <th>4</th>\n",
       "      <td>2016-01-01T03:00:00Z</td>\n",
       "      <td>2016-01-01T04:00:00+0100</td>\n",
       "      <td>8295</td>\n",
       "      <td>4</td>\n",
       "      <td>47.5</td>\n",
       "      <td>5.625</td>\n",
       "      <td>1.14</td>\n",
       "      <td>1.56</td>\n",
       "      <td>1.83</td>\n",
       "      <td>2</td>\n",
       "      <td>10</td>\n",
       "      <td>0.052480</td>\n",
       "      <td>0.0</td>\n",
       "      <td>0.0</td>\n",
       "      <td>276.867767</td>\n",
       "      <td>1.248869</td>\n",
       "      <td>99324.796875</td>\n",
       "    </tr>\n",
       "  </tbody>\n",
       "</table>\n",
       "</div>"
      ],
      "text/plain": [
       "          utc_timestamp        cet_cest_timestamp  DE_wind_generation_actual  \\\n",
       "0  2015-12-31T23:00:00Z  2016-01-01T00:00:00+0100                       8638   \n",
       "1  2016-01-01T00:00:00Z  2016-01-01T01:00:00+0100                       8579   \n",
       "2  2016-01-01T01:00:00Z  2016-01-01T02:00:00+0100                       8542   \n",
       "3  2016-01-01T02:00:00Z  2016-01-01T03:00:00+0100                       8443   \n",
       "4  2016-01-01T03:00:00Z  2016-01-01T04:00:00+0100                       8295   \n",
       "\n",
       "   cumulated hours   lat    lon    v1    v2  v_50m  h1  h2        z0  SWTDN  \\\n",
       "0                0  47.5  5.625  0.81  1.88   3.36   2  10  0.052526    0.0   \n",
       "1                1  47.5  5.625  0.77  1.61   2.63   2  10  0.052510    0.0   \n",
       "2                2  47.5  5.625  0.66  1.22   1.89   2  10  0.052495    0.0   \n",
       "3                3  47.5  5.625  0.96  1.35   1.62   2  10  0.052480    0.0   \n",
       "4                4  47.5  5.625  1.14  1.56   1.83   2  10  0.052480    0.0   \n",
       "\n",
       "   SWGDN           T       rho             p  \n",
       "0    0.0  277.350159  1.236413  99282.710938  \n",
       "1    0.0  277.025665  1.239390  99300.164062  \n",
       "2    0.0  277.223755  1.243861  99310.992188  \n",
       "3    0.0  277.133240  1.247390  99314.773438  \n",
       "4    0.0  276.867767  1.248869  99324.796875  "
      ]
     },
     "execution_count": 7,
     "metadata": {},
     "output_type": "execute_result"
    }
   ],
   "source": [
    "combined.head()"
   ]
  },
  {
   "cell_type": "code",
   "execution_count": 8,
   "metadata": {
    "colab": {},
    "colab_type": "code",
    "id": "FxbWKlzpIOD_"
   },
   "outputs": [],
   "source": [
    "# Apply linear regression\n",
    "lr = LinearRegression()\n",
    "X_wind = combined[['v1', 'v2', 'v_50m', 'z0']]\n",
    "#X_wind = combined[['v1', 'v2', 'v_50m']]\n",
    "#X_wind = combined[['v1', 'v2']]\n",
    "y_wind = combined['DE_wind_generation_actual']\n",
    "num_vars = ['v1', 'v2', 'v_50m', 'z0']\n",
    "cat_vars = []\n",
    "\n",
    "#model = lr.fit(X_wind, y_wind)"
   ]
  },
  {
   "cell_type": "code",
   "execution_count": 9,
   "metadata": {},
   "outputs": [],
   "source": [
    "x_train, x_val, y_train, y_val = train_test_split(X_wind, y_wind, test_size=0.3, random_state=909)"
   ]
  },
  {
   "cell_type": "code",
   "execution_count": 10,
   "metadata": {},
   "outputs": [],
   "source": [
    "num_4_treeModels = pipeline.Pipeline(steps=[\n",
    "    ('imputer', impute.SimpleImputer(strategy='mean', add_indicator=False))]) # mean, median\n",
    "\n",
    "cat_4_treeModels = pipeline.Pipeline(steps=[\n",
    "    ('imputer', impute.SimpleImputer(strategy='constant', fill_value='missing')),\n",
    "    ('ordinal', preprocessing.OrdinalEncoder(handle_unknown=\"use_encoded_value\", unknown_value=np.nan))])\n",
    "\n",
    "tree_prepro = compose.ColumnTransformer(transformers=[\n",
    "    ('num', num_4_treeModels, num_vars),\n",
    "    ('cat', cat_4_treeModels, cat_vars),],\n",
    "    remainder='drop')\n",
    "                          "
   ]
  },
  {
   "cell_type": "code",
   "execution_count": null,
   "metadata": {},
   "outputs": [],
   "source": []
  },
  {
   "cell_type": "code",
   "execution_count": 12,
   "metadata": {},
   "outputs": [
    {
     "name": "stdout",
     "output_type": "stream",
     "text": [
      "Trying Decision_tree_regressor\n",
      "Trying Extra_trees_regressor\n",
      "Trying Random_forest_regressor\n",
      "Trying GBM_regressor\n",
      "Trying HGB_regressor\n",
      "                     Model       EVS           ME           MSE      Time\n",
      "1  Random_forest_regressor  0.656548  3885.513445  1.509721e+07  2.354658\n",
      "2    Extra_trees_regressor  0.552572  4439.660601  1.971059e+07  1.055529\n",
      "3            HGB_regressor  0.428973  5012.481389  2.512497e+07  0.553248\n",
      "4  Decision_tree_regressor  0.375471  5233.059864  2.738492e+07  0.082865\n",
      "5            GBM_regressor  0.343818  5369.059698  2.882680e+07  0.655833\n"
     ]
    }
   ],
   "source": [
    "all_tree_pipes = {name: pipeline.make_pipeline(tree_prepro, model) for name, model in tree_regressors.items()}\n",
    "tree_results = pd.DataFrame({'Model': [],\"EVS\":[], 'ME': [],'Time': []})\n",
    "for model_name, model in all_tree_pipes.items():\n",
    "    print(f\"Trying {model_name}\")\n",
    "    start_time = time.time()\n",
    "    \n",
    "    # FOR EVERY PIPELINE (PREPRO + MODEL) -> TRAIN WITH TRAIN DATA (x_train)\n",
    "    model.fit(x_train, y_train)\n",
    "    # GET PREDICTIONS USING x_val\n",
    "    pred = model.predict(x_val)\n",
    "\n",
    "    total_time = time.time() - start_time\n",
    "\n",
    "    tree_results = tree_results.append({\"Model\":    model_name,\n",
    "#                               \"Accuracy\": metrics.accuracy_score(y_val, pred)*100,\n",
    "#                               \"Bal Acc.\": metrics.balanced_accuracy_score(y_val, pred)*100,\n",
    "                              \"EVS\":metrics.explained_variance_score(y_val, pred),\n",
    "                              \"ME\": metrics.mean_squared_error(y_val, pred, squared=False),\n",
    "                              #\"MSE\": metrics.mean_squared_error(y_val, pred, squared=True),\n",
    "                              \"Time\":     total_time},\n",
    "                              ignore_index=True)\n",
    "                              \n",
    "tree_results_ord = tree_results.sort_values(by=['ME'], ascending=True, ignore_index=True)\n",
    "tree_results_ord.index += 1 \n",
    "print(tree_results_ord)"
   ]
  },
  {
   "cell_type": "code",
   "execution_count": 13,
   "metadata": {},
   "outputs": [],
   "source": [
    "num_4_multModels = pipeline.Pipeline(steps=[\n",
    "    ('transformer',preprocessing.QuantileTransformer(n_quantiles=10)),\n",
    "    #('imputer', impute.SimpleImputer(strategy='median', add_indicator=False))\n",
    "]) # mean, median\n",
    "\n",
    "cat_4_multModels = pipeline.Pipeline(steps=[\n",
    "    ('imputer', impute.SimpleImputer(strategy='constant', fill_value='missing')),\n",
    "    ('ordinal', preprocessing.OrdinalEncoder(handle_unknown=\"use_encoded_value\", unknown_value=np.nan))])\n",
    "\n",
    "mult_prepro = compose.ColumnTransformer(transformers=[\n",
    "    ('num', num_4_multModels, num_vars),\n",
    "    ('cat', cat_4_multModels, cat_vars),],\n",
    "    remainder='drop')\n"
   ]
  },
  {
   "cell_type": "code",
   "execution_count": 18,
   "metadata": {},
   "outputs": [
    {
     "name": "stdout",
     "output_type": "stream",
     "text": [
      "Trying Linear_regression\n",
      "Trying Ridge_regressor\n",
      "Trying SVM_regressor\n",
      "Trying MLP_regressor\n",
      "Trying SGD_regressor\n",
      "Trying KNN_regressor\n",
      "Trying BR_regressor\n",
      "Trying RNN_regressor\n",
      "               Model       EVS           ME           MSE        Time\n",
      "1      MLP_regressor  0.054839  6442.526369  4.150615e+07  217.592916\n",
      "2      RNN_regressor  0.045768  6474.962142  4.192513e+07    0.140601\n",
      "3  Linear_regression  0.029177  6530.957860  4.265341e+07    0.038852\n",
      "4    Ridge_regressor  0.029132  6531.111671  4.265542e+07    0.023890\n",
      "5       BR_regressor  0.028593  6532.937102  4.267927e+07    0.009210\n",
      "6      SGD_regressor  0.027499  6537.387668  4.273744e+07    0.014462\n",
      "7      KNN_regressor  0.003658  6611.389137  4.371047e+07    0.020170\n",
      "8      SVM_regressor  0.000901  6791.269208  4.612134e+07    3.151960\n"
     ]
    }
   ],
   "source": [
    "all_mult_pipes = {name: pipeline.make_pipeline(tree_prepro, model) for name, model in mult_regressors.items()}\n",
    "mult_results = pd.DataFrame({'Model': [],\"EVS\":[], 'ME': [], 'MSE': [], 'Time': []})\n",
    "for model_name, model in all_mult_pipes.items():\n",
    "    print(f\"Trying {model_name}\")\n",
    "    start_time = time.time()\n",
    "    \n",
    "    # FOR EVERY PIPELINE (PREPRO + MODEL) -> TRAIN WITH TRAIN DATA (x_train)\n",
    "    model.fit(x_train, y_train)\n",
    "    # GET PREDICTIONS USING x_val\n",
    "    pred = model.predict(x_val)\n",
    "\n",
    "    total_time = time.time() - start_time\n",
    "\n",
    "    mult_results = mult_results.append({\"Model\":    model_name,\n",
    "#                               \"Accuracy\": metrics.accuracy_score(y_val, pred)*100,\n",
    "#                               \"Bal Acc.\": metrics.balanced_accuracy_score(y_val, pred)*100,\n",
    "                              \"EVS\":metrics.explained_variance_score(y_val, pred),\n",
    "                              \"ME\": metrics.mean_squared_error(y_val, pred, squared=False),\n",
    "                              \"MSE\": metrics.mean_squared_error(y_val, pred, squared=True),\n",
    "                              \"Time\":     total_time},\n",
    "                              ignore_index=True)\n",
    "                              \n",
    "mult_results_ord = mult_results.sort_values(by=['MSE'], ascending=True, ignore_index=True)\n",
    "mult_results_ord.index += 1 \n",
    "print(mult_results_ord)\n"
   ]
  },
  {
   "cell_type": "code",
   "execution_count": 35,
   "metadata": {},
   "outputs": [
    {
     "data": {
      "text/plain": [
       "Pipeline(steps=[('columntransformer',\n",
       "                 ColumnTransformer(transformers=[('num',\n",
       "                                                  Pipeline(steps=[('imputer',\n",
       "                                                                   SimpleImputer())]),\n",
       "                                                  ['v1', 'v2', 'v_50m', 'z0']),\n",
       "                                                 ('cat',\n",
       "                                                  Pipeline(steps=[('imputer',\n",
       "                                                                   SimpleImputer(fill_value='missing',\n",
       "                                                                                 strategy='constant')),\n",
       "                                                                  ('ordinal',\n",
       "                                                                   OrdinalEncoder(handle_unknown='use_encoded_value',\n",
       "                                                                                  unknown_value=nan))]),\n",
       "                                                  [])])),\n",
       "                ('randomforestregressor', RandomForestRegressor())])"
      ]
     },
     "execution_count": 35,
     "metadata": {},
     "output_type": "execute_result"
    }
   ],
   "source": [
    "model = all_tree_pipes[\"Random_forest_regressor\"]\n",
    "#print(pipe)\n",
    "model.fit(X_wind, y_wind)\n",
    "# print(pipe.named_steps['clf'].coef_)\n",
    "\n"
   ]
  },
  {
   "cell_type": "code",
   "execution_count": 53,
   "metadata": {},
   "outputs": [
    {
     "name": "stdout",
     "output_type": "stream",
     "text": [
      "[8143.3]\n"
     ]
    }
   ],
   "source": [
    "# y = pd.DataFrame([[1.0,3.1,1,0.1]], columns=['v1', 'v2', 'v_50m', 'z0'])\n",
    "# x = model.predict(y)\n",
    "# print(x)"
   ]
  },
  {
   "cell_type": "code",
   "execution_count": 39,
   "metadata": {
    "colab": {},
    "colab_type": "code",
    "id": "K3GJcgNJCQPJ"
   },
   "outputs": [],
   "source": [
    "# Mock request object for local API testing\n",
    "headers = {\n",
    "'content-type': 'application/json'\n",
    "}\n",
    "body = json.dumps({\n",
    "  \"data\": [[1.44, 1.77, 2, 0.054]]\n",
    "})\n",
    "REQUEST = json.dumps({ 'headers': headers, 'body': body })"
   ]
  },
  {
   "cell_type": "code",
   "execution_count": 56,
   "metadata": {
    "ExecuteTime": {
     "end_time": "2021-07-13T19:29:06.473549Z",
     "start_time": "2021-07-13T19:29:06.394461Z"
    },
    "colab": {
     "base_uri": "https://localhost:8080/",
     "height": 34
    },
    "colab_type": "code",
    "executionInfo": {
     "elapsed": 1058,
     "status": "ok",
     "timestamp": 1580751290135,
     "user": {
      "displayName": "Javier Fuentes Ibáñez",
      "photoUrl": "https://lh3.googleusercontent.com/a-/AAuE7mBoMcBzbjtRUR1TJGkAccQaDoQ_RHn6n04zVoLA=s64",
      "userId": "07330169876145884685"
     },
     "user_tz": -60
    },
    "id": "Pm5bvzlxIfbi",
    "outputId": "81514239-d671-46f9-a2f0-29f0e5159e38"
   },
   "outputs": [
    {
     "name": "stdout",
     "output_type": "stream",
     "text": [
      "[13497.21]\n"
     ]
    }
   ],
   "source": [
    "# POST /prediction\n",
    "body = json.loads(REQUEST)['body']\n",
    "# predict the cluster for new samples. Function to be exposed through Titan\n",
    "input_params = json.loads(body)['data']\n",
    "\n",
    "#input_params = [[0.44, 1.77, 2, 0.054]]\n",
    "d = pd.DataFrame(input_params, columns=['v1', 'v2', 'v_50m', 'z0'])\n",
    "print(model.predict(d))"
   ]
  },
  {
   "cell_type": "code",
   "execution_count": null,
   "metadata": {},
   "outputs": [],
   "source": []
  }
 ],
 "metadata": {
  "colab": {
   "collapsed_sections": [],
   "name": "energy_generation_kpmg.ipynb",
   "provenance": []
  },
  "kernelspec": {
   "display_name": "Python 3",
   "language": "python",
   "name": "python3"
  },
  "language_info": {
   "codemirror_mode": {
    "name": "ipython",
    "version": 3
   },
   "file_extension": ".py",
   "mimetype": "text/x-python",
   "name": "python",
   "nbconvert_exporter": "python",
   "pygments_lexer": "ipython3",
   "version": "3.8.0"
  },
  "varInspector": {
   "cols": {
    "lenName": 16,
    "lenType": 16,
    "lenVar": 40
   },
   "kernels_config": {
    "python": {
     "delete_cmd_postfix": "",
     "delete_cmd_prefix": "del ",
     "library": "var_list.py",
     "varRefreshCmd": "print(var_dic_list())"
    },
    "r": {
     "delete_cmd_postfix": ") ",
     "delete_cmd_prefix": "rm(",
     "library": "var_list.r",
     "varRefreshCmd": "cat(var_dic_list()) "
    }
   },
   "types_to_exclude": [
    "module",
    "function",
    "builtin_function_or_method",
    "instance",
    "_Feature"
   ],
   "window_display": false
  }
 },
 "nbformat": 4,
 "nbformat_minor": 1
}
