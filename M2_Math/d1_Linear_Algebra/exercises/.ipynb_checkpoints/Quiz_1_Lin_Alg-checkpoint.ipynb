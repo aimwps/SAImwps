{
 "cells": [
  {
   "cell_type": "markdown",
   "metadata": {},
   "source": [
    "## Linear Algebra Quiz #1\n",
    "\n",
    "![title](./img/1_0.jpeg)\n",
    "\n",
    "We strongly suggest working with numpy :)"
   ]
  },
  {
   "cell_type": "code",
   "execution_count": 2,
   "metadata": {},
   "outputs": [],
   "source": [
    "import numpy as np"
   ]
  },
  {
   "cell_type": "markdown",
   "metadata": {},
   "source": [
    "![title](./img/1_1.png)"
   ]
  },
  {
   "cell_type": "code",
   "execution_count": 4,
   "metadata": {},
   "outputs": [
    {
     "name": "stdout",
     "output_type": "stream",
     "text": [
      "5.385164807134504\n",
      "15.968719422671311\n"
     ]
    }
   ],
   "source": [
    "# type a function that given a 3_dimensional vector it is able to calculate its magnitude\n",
    "\n",
    "# to numerically calculate the magnitude of a vector, square each component, add them together /\n",
    "# and find the square root.\n",
    "def magnitude_3(a,b,c):\n",
    "    return np.sqrt((a**2 + b**2 + c**2))\n",
    "print(magnitude_3(2,3,4))\n",
    "\n",
    "\n",
    "# type a function that given a n_dimensional vector it is able to calculate its magnitude\n",
    "# if you want to try this from python (not jupyter notebook) https://docs.python.org/3/library/argparse.html would be a good addition\n",
    "# if you are doing this from a jupyter notebook only, you can try to promt the user for an input  \n",
    "def magnitude_complete(*args):        \n",
    "    return np.sqrt(np.sum([arg**2 for arg in args]))\n",
    "vector = np.arange(5,10).reshape(5,1)\n",
    "print(magnitude_complete(vector))"
   ]
  },
  {
   "cell_type": "markdown",
   "metadata": {},
   "source": [
    "uncomment the following line when you are ready to test"
   ]
  },
  {
   "cell_type": "code",
   "execution_count": 5,
   "metadata": {},
   "outputs": [
    {
     "name": "stdout",
     "output_type": "stream",
     "text": [
      "True\n",
      "True\n",
      "True\n",
      "True\n",
      "True\n"
     ]
    }
   ],
   "source": [
    "print(magnitude_complete(1) == 1.0)\n",
    "print(magnitude_complete(1,2) >= 2.236)\n",
    "print(magnitude_complete(1,2,3) >= 3.741)\n",
    "print(magnitude_complete(1,2,3,4,5) >= 5.477)\n",
    "print(magnitude_complete(1,2,3,4,5) >= 7.416)"
   ]
  },
  {
   "cell_type": "markdown",
   "metadata": {},
   "source": [
    "![title](./img/1_2.png)"
   ]
  },
  {
   "cell_type": "code",
   "execution_count": 6,
   "metadata": {},
   "outputs": [
    {
     "name": "stdout",
     "output_type": "stream",
     "text": [
      "True\n"
     ]
    }
   ],
   "source": [
    "v1 = np.array([1,2,3]).reshape(3,1)\n",
    "v2 = np.array([1,2,3]).reshape(3,1)\n",
    "\n",
    "\n",
    "def magnitude_vectors(a, b):\n",
    "    return a.size == b.size\n",
    "    \n",
    "print(magnitude_vectors(v1,v2))\n"
   ]
  },
  {
   "cell_type": "markdown",
   "metadata": {},
   "source": [
    "![title](./img/1_3.png)"
   ]
  },
  {
   "cell_type": "code",
   "execution_count": 20,
   "metadata": {},
   "outputs": [
    {
     "name": "stdout",
     "output_type": "stream",
     "text": [
      "(5.0990195135927845, 5.0990195135927845)\n",
      "The magnitude of a + b is: 1.0 \n",
      "The direction is: [1 0]\n"
     ]
    }
   ],
   "source": [
    "v1 = np.array([5,1])\n",
    "v2 = np.array([-4,-1])\n",
    "\n",
    "def direction_vectors(a, b):\n",
    "    #checks that size is equal\n",
    "    if magnitude_vectors(a,b):\n",
    "    #returns the magnitude\n",
    "        amag = np.linalg.norm(a)\n",
    "        bmag = np.linalg.norm(a)\n",
    "        return (amag, bmag)\n",
    "    else:\n",
    "        print(\"vectors are different size\")\n",
    "print(direction_vectors(v1,v2))\n",
    "    \n",
    "# or if you want to do it all in one batch:\n",
    "\n",
    "def magdir_vectors(a, b):\n",
    "    #checks that size is equal\n",
    "    if magnitude_vectors(a,b):\n",
    "        added_vectors = np.add(a,b)\n",
    "    # calculate magnitude\n",
    "        vmag = np.linalg.norm(added_vectors)\n",
    "        return f\"The magnitude of a + b is: {vmag} \\nThe direction is: {added_vectors}\"\n",
    "    else:\n",
    "        return \"Vectors are different sizes\"\n",
    "    #returns the magnitude and direction in a nicely printed format \n",
    "    #\"The magnitude of a + b is X and the direction is Y\"\n",
    "    \n",
    "print(magdir_vectors(v1,v2))\n"
   ]
  },
  {
   "cell_type": "markdown",
   "metadata": {},
   "source": [
    "![title](./img/1_4.png)\n",
    "- What is the magnitude of αx⃗? \n",
    "- If α>0, will the direction of the resulting vector change?\n",
    "- If α<0, will the direction of the resulting vector change?\n",
    "- If −1<α<1, will ∥αx⃗∥  increase, decrease or stay the same?"
   ]
  },
  {
   "cell_type": "code",
   "execution_count": 28,
   "metadata": {},
   "outputs": [
    {
     "name": "stdout",
     "output_type": "stream",
     "text": [
      "[3 3]\n",
      "[15 15]\n",
      "Magnitude is 21.213203435596427. The direction has not changed\n",
      "[3 3]\n",
      "[-15 -15]\n",
      "Magnitude is 21.213203435596427. The direction has changed\n"
     ]
    }
   ],
   "source": [
    "v1 = np.array([3,3])\n",
    "def alpha_magnitude(alpha, b):\n",
    "    alpha_b = alpha*b\n",
    "    print(b)\n",
    "    print(alpha_b)\n",
    "    if b[0] > 0:\n",
    "        b_sign = 'positive'\n",
    "    else:\n",
    "        b_sign = 'negative'\n",
    "        \n",
    "    if alpha_b[0] > 0:\n",
    "        alpha_b_sign = 'positive'\n",
    "    else:\n",
    "        alpha_b_sign = 'negative'\n",
    "    \n",
    "    if alpha_b_sign == b_sign:\n",
    "        return f\"Magnitude is {np.linalg.norm(alpha_b)}. The direction has not changed\"\n",
    "    else:\n",
    "        return f\"Magnitude is {np.linalg.norm(alpha_b)}. The direction has changed\"\n",
    "    #returns the resulting magnitude, if the direction has changed and what has happened to the vector\n",
    "\n",
    "print(alpha_magnitude(5, v1))\n",
    "print(alpha_magnitude(-5, v1))\n"
   ]
  },
  {
   "cell_type": "code",
   "execution_count": null,
   "metadata": {},
   "outputs": [],
   "source": []
  }
 ],
 "metadata": {
  "kernelspec": {
   "display_name": "Python 3",
   "language": "python",
   "name": "python3"
  },
  "language_info": {
   "codemirror_mode": {
    "name": "ipython",
    "version": 3
   },
   "file_extension": ".py",
   "mimetype": "text/x-python",
   "name": "python",
   "nbconvert_exporter": "python",
   "pygments_lexer": "ipython3",
   "version": "3.9.2"
  }
 },
 "nbformat": 4,
 "nbformat_minor": 2
}
