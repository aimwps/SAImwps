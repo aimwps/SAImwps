{
 "cells": [
  {
   "cell_type": "markdown",
   "metadata": {},
   "source": [
    "# Practice notebook for confidence intervals using NHANES data\n",
    "\n",
    "This notebook will give you the opportunity to practice working with confidence intervals using the NHANES data.\n",
    "\n",
    "You can enter your code into the cells that say \"enter your code here\", and you can type responses to the questions into the cells that say \"Type Markdown and Latex\".\n",
    "\n",
    "Note that most of the code that you will need to write below is very similar to code that appears in the case study notebook.  You will need to edit code from that notebook in small ways to adapt it to the prompts below.\n",
    "\n",
    "To get started, we will use the same module imports and read the data in the same way as we did in the case study:"
   ]
  },
  {
   "cell_type": "code",
   "execution_count": 119,
   "metadata": {},
   "outputs": [
    {
     "data": {
      "text/html": [
       "<div>\n",
       "<style scoped>\n",
       "    .dataframe tbody tr th:only-of-type {\n",
       "        vertical-align: middle;\n",
       "    }\n",
       "\n",
       "    .dataframe tbody tr th {\n",
       "        vertical-align: top;\n",
       "    }\n",
       "\n",
       "    .dataframe thead th {\n",
       "        text-align: right;\n",
       "    }\n",
       "</style>\n",
       "<table border=\"1\" class=\"dataframe\">\n",
       "  <thead>\n",
       "    <tr style=\"text-align: right;\">\n",
       "      <th></th>\n",
       "      <th>SEQN</th>\n",
       "      <th>ALQ101</th>\n",
       "      <th>ALQ110</th>\n",
       "      <th>ALQ130</th>\n",
       "      <th>SMQ020</th>\n",
       "      <th>RIAGENDR</th>\n",
       "      <th>RIDAGEYR</th>\n",
       "      <th>RIDRETH1</th>\n",
       "      <th>DMDCITZN</th>\n",
       "      <th>DMDEDUC2</th>\n",
       "      <th>...</th>\n",
       "      <th>BPXSY2</th>\n",
       "      <th>BPXDI2</th>\n",
       "      <th>BMXWT</th>\n",
       "      <th>BMXHT</th>\n",
       "      <th>BMXBMI</th>\n",
       "      <th>BMXLEG</th>\n",
       "      <th>BMXARML</th>\n",
       "      <th>BMXARMC</th>\n",
       "      <th>BMXWAIST</th>\n",
       "      <th>HIQ210</th>\n",
       "    </tr>\n",
       "  </thead>\n",
       "  <tbody>\n",
       "    <tr>\n",
       "      <th>0</th>\n",
       "      <td>83732</td>\n",
       "      <td>1.0</td>\n",
       "      <td>NaN</td>\n",
       "      <td>1.0</td>\n",
       "      <td>Yes</td>\n",
       "      <td>Male</td>\n",
       "      <td>62</td>\n",
       "      <td>3</td>\n",
       "      <td>1.0</td>\n",
       "      <td>5.0</td>\n",
       "      <td>...</td>\n",
       "      <td>124.0</td>\n",
       "      <td>64.0</td>\n",
       "      <td>94.8</td>\n",
       "      <td>184.5</td>\n",
       "      <td>27.8</td>\n",
       "      <td>43.3</td>\n",
       "      <td>43.6</td>\n",
       "      <td>35.9</td>\n",
       "      <td>101.1</td>\n",
       "      <td>2.0</td>\n",
       "    </tr>\n",
       "    <tr>\n",
       "      <th>1</th>\n",
       "      <td>83733</td>\n",
       "      <td>1.0</td>\n",
       "      <td>NaN</td>\n",
       "      <td>6.0</td>\n",
       "      <td>Yes</td>\n",
       "      <td>Male</td>\n",
       "      <td>53</td>\n",
       "      <td>3</td>\n",
       "      <td>2.0</td>\n",
       "      <td>3.0</td>\n",
       "      <td>...</td>\n",
       "      <td>140.0</td>\n",
       "      <td>88.0</td>\n",
       "      <td>90.4</td>\n",
       "      <td>171.4</td>\n",
       "      <td>30.8</td>\n",
       "      <td>38.0</td>\n",
       "      <td>40.0</td>\n",
       "      <td>33.2</td>\n",
       "      <td>107.9</td>\n",
       "      <td>NaN</td>\n",
       "    </tr>\n",
       "    <tr>\n",
       "      <th>2</th>\n",
       "      <td>83734</td>\n",
       "      <td>1.0</td>\n",
       "      <td>NaN</td>\n",
       "      <td>NaN</td>\n",
       "      <td>Yes</td>\n",
       "      <td>Male</td>\n",
       "      <td>78</td>\n",
       "      <td>3</td>\n",
       "      <td>1.0</td>\n",
       "      <td>3.0</td>\n",
       "      <td>...</td>\n",
       "      <td>132.0</td>\n",
       "      <td>44.0</td>\n",
       "      <td>83.4</td>\n",
       "      <td>170.1</td>\n",
       "      <td>28.8</td>\n",
       "      <td>35.6</td>\n",
       "      <td>37.0</td>\n",
       "      <td>31.0</td>\n",
       "      <td>116.5</td>\n",
       "      <td>2.0</td>\n",
       "    </tr>\n",
       "    <tr>\n",
       "      <th>3</th>\n",
       "      <td>83735</td>\n",
       "      <td>2.0</td>\n",
       "      <td>1.0</td>\n",
       "      <td>1.0</td>\n",
       "      <td>No</td>\n",
       "      <td>Female</td>\n",
       "      <td>56</td>\n",
       "      <td>3</td>\n",
       "      <td>1.0</td>\n",
       "      <td>5.0</td>\n",
       "      <td>...</td>\n",
       "      <td>134.0</td>\n",
       "      <td>68.0</td>\n",
       "      <td>109.8</td>\n",
       "      <td>160.9</td>\n",
       "      <td>42.4</td>\n",
       "      <td>38.5</td>\n",
       "      <td>37.7</td>\n",
       "      <td>38.3</td>\n",
       "      <td>110.1</td>\n",
       "      <td>2.0</td>\n",
       "    </tr>\n",
       "    <tr>\n",
       "      <th>4</th>\n",
       "      <td>83736</td>\n",
       "      <td>2.0</td>\n",
       "      <td>1.0</td>\n",
       "      <td>1.0</td>\n",
       "      <td>No</td>\n",
       "      <td>Female</td>\n",
       "      <td>42</td>\n",
       "      <td>4</td>\n",
       "      <td>1.0</td>\n",
       "      <td>4.0</td>\n",
       "      <td>...</td>\n",
       "      <td>114.0</td>\n",
       "      <td>54.0</td>\n",
       "      <td>55.2</td>\n",
       "      <td>164.9</td>\n",
       "      <td>20.3</td>\n",
       "      <td>37.4</td>\n",
       "      <td>36.0</td>\n",
       "      <td>27.2</td>\n",
       "      <td>80.4</td>\n",
       "      <td>2.0</td>\n",
       "    </tr>\n",
       "  </tbody>\n",
       "</table>\n",
       "<p>5 rows × 28 columns</p>\n",
       "</div>"
      ],
      "text/plain": [
       "    SEQN  ALQ101  ALQ110  ALQ130 SMQ020 RIAGENDR  RIDAGEYR  RIDRETH1  \\\n",
       "0  83732     1.0     NaN     1.0    Yes     Male        62         3   \n",
       "1  83733     1.0     NaN     6.0    Yes     Male        53         3   \n",
       "2  83734     1.0     NaN     NaN    Yes     Male        78         3   \n",
       "3  83735     2.0     1.0     1.0     No   Female        56         3   \n",
       "4  83736     2.0     1.0     1.0     No   Female        42         4   \n",
       "\n",
       "   DMDCITZN  DMDEDUC2  ...  BPXSY2  BPXDI2  BMXWT  BMXHT  BMXBMI  BMXLEG  \\\n",
       "0       1.0       5.0  ...   124.0    64.0   94.8  184.5    27.8    43.3   \n",
       "1       2.0       3.0  ...   140.0    88.0   90.4  171.4    30.8    38.0   \n",
       "2       1.0       3.0  ...   132.0    44.0   83.4  170.1    28.8    35.6   \n",
       "3       1.0       5.0  ...   134.0    68.0  109.8  160.9    42.4    38.5   \n",
       "4       1.0       4.0  ...   114.0    54.0   55.2  164.9    20.3    37.4   \n",
       "\n",
       "   BMXARML  BMXARMC  BMXWAIST  HIQ210  \n",
       "0     43.6     35.9     101.1     2.0  \n",
       "1     40.0     33.2     107.9     NaN  \n",
       "2     37.0     31.0     116.5     2.0  \n",
       "3     37.7     38.3     110.1     2.0  \n",
       "4     36.0     27.2      80.4     2.0  \n",
       "\n",
       "[5 rows x 28 columns]"
      ]
     },
     "metadata": {},
     "output_type": "display_data"
    }
   ],
   "source": [
    "%matplotlib inline\n",
    "import matplotlib.pyplot as plt\n",
    "import pandas as pd\n",
    "import numpy as np\n",
    "import seaborn as sns\n",
    "import statsmodels.api as sm\n",
    "da = pd.read_csv(\"nhanes_2015_2016.csv\")\n",
    "da[\"SMQ020\"] = da[\"SMQ020\"].dropna()\n",
    "da[\"RIAGENDR\"] = da[\"RIAGENDR\"].dropna()\n",
    "da[\"SMQ020\"] = da.SMQ020.replace({1: \"Yes\", 2: \"No\", 7: np.nan, 9: np.nan})  # np.nan represents a missing value\n",
    "da[\"RIAGENDR\"] = da.RIAGENDR.replace({1: \"Male\", 2: \"Female\"})\n",
    "\n",
    "\n",
    "display(da.head())"
   ]
  },
  {
   "cell_type": "markdown",
   "metadata": {},
   "source": [
    "## Question 1\n",
    "\n",
    "Restrict the sample to women between 35 and 50, then use the marital status variable [DMDMARTL](https://wwwn.cdc.gov/Nchs/Nhanes/2015-2016/DEMO_I.htm#DMDMARTL) to partition this sample into two groups - women who are currently married, and women who are not currently married.  Within each of these groups, calculate the proportion of women who have completed college.  Calculate 95% confidence intervals for each of these proportions."
   ]
  },
  {
   "cell_type": "code",
   "execution_count": 112,
   "metadata": {},
   "outputs": [
    {
     "name": "stderr",
     "output_type": "stream",
     "text": [
      "<ipython-input-112-97e332845ac5>:8: UserWarning: Boolean Series key will be reindexed to match DataFrame index.\n",
      "  daf_35_50 = daf[(da[\"RIDAGEYR\"]>= 35) & (da[\"RIDAGEYR\"] < 50)]\n"
     ]
    },
    {
     "data": {
      "text/html": [
       "<div>\n",
       "<style scoped>\n",
       "    .dataframe tbody tr th:only-of-type {\n",
       "        vertical-align: middle;\n",
       "    }\n",
       "\n",
       "    .dataframe tbody tr th {\n",
       "        vertical-align: top;\n",
       "    }\n",
       "\n",
       "    .dataframe thead th {\n",
       "        text-align: right;\n",
       "    }\n",
       "</style>\n",
       "<table border=\"1\" class=\"dataframe\">\n",
       "  <thead>\n",
       "    <tr style=\"text-align: right;\">\n",
       "      <th></th>\n",
       "      <th>Proportion</th>\n",
       "      <th>Total_n</th>\n",
       "    </tr>\n",
       "    <tr>\n",
       "      <th>DMDMARTL</th>\n",
       "      <th></th>\n",
       "      <th></th>\n",
       "    </tr>\n",
       "  </thead>\n",
       "  <tbody>\n",
       "    <tr>\n",
       "      <th>False</th>\n",
       "      <td>0.210526</td>\n",
       "      <td>323.0</td>\n",
       "    </tr>\n",
       "    <tr>\n",
       "      <th>True</th>\n",
       "      <td>0.369668</td>\n",
       "      <td>422.0</td>\n",
       "    </tr>\n",
       "  </tbody>\n",
       "</table>\n",
       "</div>"
      ],
      "text/plain": [
       "          Proportion  Total_n\n",
       "DMDMARTL                     \n",
       "False       0.210526    323.0\n",
       "True        0.369668    422.0"
      ]
     },
     "metadata": {},
     "output_type": "display_data"
    },
    {
     "name": "stdout",
     "output_type": "stream",
     "text": [
      "\n",
      " The 95% standard error for married graduates: 0.0234981916222331\n",
      "\n",
      " The 95% standard error for unmarried graduates: 0.022684058732663978\n",
      "\n",
      " The married confidence interval is: between 0.1644698602098968 and 0.25658277136905056\n",
      "\n",
      " The not married confidence interval is: between 0.16606556067345227 and 0.25498707090549505\n"
     ]
    }
   ],
   "source": [
    "#######################################################################################\n",
    "## GROUPING & PROPORTIONS #############################################################\n",
    "#######################################################################################\n",
    "# Finds females\n",
    "daf= da[da[\"RIAGENDR\"] == 'Female']\n",
    "\n",
    "# Finds correct age bracket of those females\n",
    "daf_35_50 = daf[(da[\"RIDAGEYR\"]>= 35) & (da[\"RIDAGEYR\"] < 50)]\n",
    "\n",
    "# Groups by marital status splitting the group in 2.\n",
    "# It then aggrgates the mean of peoples education that = 5 (collage gratudate or greater)\n",
    "dafam_edu = daf_35_50.groupby(daf_35_50.DMDMARTL == 1).agg({\"DMDEDUC2\": [lambda x: np.mean(x==5), np.size]})\n",
    "dafam_edu.columns = [\"Proportion\", \"Total_n\"]\n",
    "display(dafam_edu)\n",
    "\n",
    "#########################################################################################\n",
    "## CALCULATING STANADARD ERROR ##########################################################\n",
    "#########################################################################################\n",
    "## Standard Error equation is:\n",
    "## The square root of:                  _________________\n",
    "# proportion of sample(ps)             / ps * (1 - ps) /\n",
    "#                                     /  -------------\n",
    "# divided by the sample size(n)     \\/         n \n",
    "\n",
    "### Married standard error\n",
    "m_ps = dafam_edu.Proportion.iloc[1]# Graduate proportion of married women\n",
    "m_n = dafam_edu.Total_n.iloc[1] # Total number of Married women \n",
    "se_married_graduates = np.sqrt(m_ps * (1 - m_ps) / m_n)\n",
    "print(f\"\\n The 95% standard error for married graduates: {se_married_graduates}\")\n",
    "\n",
    "### Unmarried standard error\n",
    "nm_ps = dafam_edu.Proportion.iloc[0]# gratudate proportion of unmarried women\n",
    "nm_n = dafam_edu.Total_n.iloc[0] # Total number of unmarried women \n",
    "se_not_married_graduates = np.sqrt(nm_ps * (1 - nm_ps) / nm_n)\n",
    "print(f\"\\n The 95% standard error for unmarried graduates: {se_unmarried_graduates}\")\n",
    "\n",
    "#########################################################################################\n",
    "## CALCULATING CONFIDENCE INTERVAL ######################################################\n",
    "#########################################################################################\n",
    "# Confidence interval is two standard errors below and 2 standard errors above our standard error\n",
    "\n",
    "### Married confidence interval \n",
    "m_lcb = p - 1.96 * se_married_graduates \n",
    "m_ucb = p + 1.96 * se_married_graduates \n",
    "print(f\"\\n The married confidence interval is: between {m_lcb} and {m_ucb}\")\n",
    "\n",
    "### Not Mararried confidence interval \n",
    "nm_lcb = p - 1.96 * se_not_married_graduates \n",
    "nm_ucb = p + 1.96 * se_not_married_graduates\n",
    "print(f\"\\n The not married confidence interval is: between {nm_lcb} and {nm_ucb}\")"
   ]
  },
  {
   "cell_type": "markdown",
   "metadata": {},
   "source": [
    "__Q1a.__ Identify which of the two confidence intervals is wider, and explain why this is the case. "
   ]
  },
  {
   "cell_type": "code",
   "execution_count": 116,
   "metadata": {},
   "outputs": [
    {
     "name": "stdout",
     "output_type": "stream",
     "text": [
      "width_m: 0.09211291115915377\n",
      "width_nm: 0.08892151023204278\n",
      "0.09211291115915377\n",
      "the confidence interval of married women who are college graduates is wider\n"
     ]
    }
   ],
   "source": [
    "width_m = m_ucb - m_lcb\n",
    "width_nm = nm_ucb - nm_lcb\n",
    "print(f\"width_m: {width_m}\")\n",
    "print(f\"width_nm: {width_nm}\")\n",
    "print(max([width_m, width_nm]))\n",
    "print(\"the confidence interval of married women who are college graduates is wider\")\n"
   ]
  },
  {
   "cell_type": "markdown",
   "metadata": {},
   "source": []
  },
  {
   "cell_type": "markdown",
   "metadata": {},
   "source": [
    "__Q1b.__ Write 1-2 sentences summarizing these findings for an audience that does not know what a confidence interval is (the goal here is to report the substance of what you learned about how marital status and educational attainment are related, not to teach a person what a confidence interval is)."
   ]
  },
  {
   "cell_type": "markdown",
   "metadata": {},
   "source": []
  },
  {
   "cell_type": "markdown",
   "metadata": {},
   "source": [
    "## Question 2\n",
    "\n",
    "Construct 95% confidence intervals for the proportion of smokers who are female, and for the proportion of smokers who are male.  Then construct a 95% confidence interval for the difference between these proportions."
   ]
  },
  {
   "cell_type": "code",
   "execution_count": 175,
   "metadata": {},
   "outputs": [
    {
     "data": {
      "text/html": [
       "<div>\n",
       "<style scoped>\n",
       "    .dataframe tbody tr th:only-of-type {\n",
       "        vertical-align: middle;\n",
       "    }\n",
       "\n",
       "    .dataframe tbody tr th {\n",
       "        vertical-align: top;\n",
       "    }\n",
       "\n",
       "    .dataframe thead th {\n",
       "        text-align: right;\n",
       "    }\n",
       "</style>\n",
       "<table border=\"1\" class=\"dataframe\">\n",
       "  <thead>\n",
       "    <tr style=\"text-align: right;\">\n",
       "      <th></th>\n",
       "      <th>Proportion</th>\n",
       "      <th>Total_n</th>\n",
       "    </tr>\n",
       "    <tr>\n",
       "      <th>RIAGENDR</th>\n",
       "      <th></th>\n",
       "      <th></th>\n",
       "    </tr>\n",
       "  </thead>\n",
       "  <tbody>\n",
       "    <tr>\n",
       "      <th>Female</th>\n",
       "      <td>0.304435</td>\n",
       "      <td>2976</td>\n",
       "    </tr>\n",
       "    <tr>\n",
       "      <th>Male</th>\n",
       "      <td>0.512142</td>\n",
       "      <td>2759</td>\n",
       "    </tr>\n",
       "  </tbody>\n",
       "</table>\n",
       "</div>"
      ],
      "text/plain": [
       "          Proportion  Total_n\n",
       "RIAGENDR                     \n",
       "Female      0.304435     2976\n",
       "Male        0.512142     2759"
      ]
     },
     "metadata": {},
     "output_type": "display_data"
    },
    {
     "name": "stdout",
     "output_type": "stream",
     "text": [
      "0.009516254762527675\n",
      "0.008435287344906213\n",
      "Confidence interval for male smokers is 0.19187445645491943, 0.2291781751240279\n",
      "Confidence interval for female smokers is 0.1939931525934575, 0.22705947898548984\n"
     ]
    }
   ],
   "source": [
    "das_gender = da.groupby(da.RIAGENDR).agg({\"SMQ020\": [lambda x: np.mean(x==\"Yes\"), np.size]})\n",
    "das_gender.columns = [\"Proportion\", \"Total_n\"] # The default column names are unclear, so we replace them here\n",
    "display(das_gender)\n",
    "### Male standard error\n",
    "m_ps = das_gender.Proportion.Male\n",
    "m_n = das_gender.Total_n.Male\n",
    "se_male = np.sqrt(m_ps * (1 - m_ps) / m_n)\n",
    "print(se_male)\n",
    "\n",
    "\n",
    "### Female standard error\n",
    "f_ps = das_gender.Proportion.Female\n",
    "f_n = das_gender.Total_n.Female\n",
    "se_female = np.sqrt(f_ps * (1 - f_ps) / f_n)\n",
    "print(se_female)\n",
    "\n",
    "### Calculate male interval\n",
    "mlcb = p - 1.96 * se_male  \n",
    "mucb = p + 1.96 * se_male  \n",
    "print(f\"Confidence interval for male smokers is {mlcb}, {mucb}\")\n",
    "### Calculate female interval\n",
    "flcb = p - 1.96 * se_female \n",
    "fucb = p + 1.96 * se_female\n",
    "print(f\"Confidence interval for female smokers is {flcb}, {fucb}\")"
   ]
  },
  {
   "cell_type": "markdown",
   "metadata": {},
   "source": [
    "__Q2a.__ Discuss why it may be relevant to report the proportions of smokers who are female and male, and contrast this to reporting the proportions of males and females who smoke."
   ]
  },
  {
   "cell_type": "markdown",
   "metadata": {},
   "source": []
  },
  {
   "cell_type": "markdown",
   "metadata": {},
   "source": [
    "__Q2b.__ How does the width of the confidence interval for the difference of the two proportions compare to the widths of the confidence intervals for each proportion separately?"
   ]
  },
  {
   "cell_type": "markdown",
   "metadata": {},
   "source": []
  },
  {
   "cell_type": "markdown",
   "metadata": {},
   "source": [
    "## Question 3\n",
    "\n",
    "Construct a 95% interval for height ([BMXHT](https://wwwn.cdc.gov/Nchs/Nhanes/2015-2016/BMX_I.htm#BMXHT)) in centimeters.  Then convert height from centimeters to inches by dividing by 2.54, and construct a 95% confidence interval for height in inches.  Finally, convert the endpoints (the lower and upper confidence limits) of the confidence interval from inches to back to centimeters   "
   ]
  },
  {
   "cell_type": "code",
   "execution_count": 144,
   "metadata": {},
   "outputs": [
    {
     "name": "stdout",
     "output_type": "stream",
     "text": [
      "[0.02198956 0.0359504 ]\n"
     ]
    }
   ],
   "source": [
    "# enter your code here\n",
    "da_inches = da[\"BMXHT\"] / 2.54\n",
    "ci = sm.stats.proportion_confint(da_inches.mean(), da_inches.size)  \n",
    "np_in_ci = np.array(ci)\n",
    "np_cm_ci = np_ci * 2.54\n",
    "print(np_cm_ci)"
   ]
  },
  {
   "cell_type": "markdown",
   "metadata": {},
   "source": [
    "__Q3a.__ Describe how the confidence interval constructed in centimeters relates to the confidence interval constructed in inches."
   ]
  },
  {
   "cell_type": "markdown",
   "metadata": {},
   "source": []
  },
  {
   "cell_type": "markdown",
   "metadata": {},
   "source": [
    "## Question 4\n",
    "\n",
    "Partition the sample based on 10-year age bands, i.e. the resulting groups will consist of people with ages from 18-28, 29-38, etc. Construct 95% confidence intervals for the difference between the mean BMI for females and for males within each age band."
   ]
  },
  {
   "cell_type": "code",
   "execution_count": 206,
   "metadata": {},
   "outputs": [
    {
     "data": {
      "text/html": [
       "<div>\n",
       "<style scoped>\n",
       "    .dataframe tbody tr th:only-of-type {\n",
       "        vertical-align: middle;\n",
       "    }\n",
       "\n",
       "    .dataframe tbody tr th {\n",
       "        vertical-align: top;\n",
       "    }\n",
       "\n",
       "    .dataframe thead th {\n",
       "        text-align: right;\n",
       "    }\n",
       "</style>\n",
       "<table border=\"1\" class=\"dataframe\">\n",
       "  <thead>\n",
       "    <tr style=\"text-align: right;\">\n",
       "      <th></th>\n",
       "      <th></th>\n",
       "      <th>mean</th>\n",
       "      <th>std</th>\n",
       "      <th>size</th>\n",
       "    </tr>\n",
       "    <tr>\n",
       "      <th>agegrp</th>\n",
       "      <th>RIAGENDR</th>\n",
       "      <th></th>\n",
       "      <th></th>\n",
       "      <th></th>\n",
       "    </tr>\n",
       "  </thead>\n",
       "  <tbody>\n",
       "    <tr>\n",
       "      <th rowspan=\"2\" valign=\"top\">(18, 29]</th>\n",
       "      <th>Female</th>\n",
       "      <td>28.082450</td>\n",
       "      <td>7.890613</td>\n",
       "      <td>551.0</td>\n",
       "    </tr>\n",
       "    <tr>\n",
       "      <th>Male</th>\n",
       "      <td>27.230677</td>\n",
       "      <td>6.587966</td>\n",
       "      <td>508.0</td>\n",
       "    </tr>\n",
       "    <tr>\n",
       "      <th rowspan=\"2\" valign=\"top\">(29, 39]</th>\n",
       "      <th>Female</th>\n",
       "      <td>30.208211</td>\n",
       "      <td>8.192074</td>\n",
       "      <td>481.0</td>\n",
       "    </tr>\n",
       "    <tr>\n",
       "      <th>Male</th>\n",
       "      <td>29.772422</td>\n",
       "      <td>6.825048</td>\n",
       "      <td>452.0</td>\n",
       "    </tr>\n",
       "    <tr>\n",
       "      <th rowspan=\"2\" valign=\"top\">(39, 49]</th>\n",
       "      <th>Female</th>\n",
       "      <td>30.922332</td>\n",
       "      <td>7.911045</td>\n",
       "      <td>511.0</td>\n",
       "    </tr>\n",
       "    <tr>\n",
       "      <th>Male</th>\n",
       "      <td>29.563409</td>\n",
       "      <td>6.179002</td>\n",
       "      <td>402.0</td>\n",
       "    </tr>\n",
       "    <tr>\n",
       "      <th rowspan=\"2\" valign=\"top\">(49, 59]</th>\n",
       "      <th>Female</th>\n",
       "      <td>30.864732</td>\n",
       "      <td>7.584018</td>\n",
       "      <td>451.0</td>\n",
       "    </tr>\n",
       "    <tr>\n",
       "      <th>Male</th>\n",
       "      <td>29.193807</td>\n",
       "      <td>5.974769</td>\n",
       "      <td>437.0</td>\n",
       "    </tr>\n",
       "    <tr>\n",
       "      <th rowspan=\"2\" valign=\"top\">(59, 69]</th>\n",
       "      <th>Female</th>\n",
       "      <td>31.029806</td>\n",
       "      <td>7.799010</td>\n",
       "      <td>468.0</td>\n",
       "    </tr>\n",
       "    <tr>\n",
       "      <th>Male</th>\n",
       "      <td>29.322426</td>\n",
       "      <td>5.904651</td>\n",
       "      <td>449.0</td>\n",
       "    </tr>\n",
       "    <tr>\n",
       "      <th rowspan=\"2\" valign=\"top\">(69, 79]</th>\n",
       "      <th>Female</th>\n",
       "      <td>30.489231</td>\n",
       "      <td>6.748410</td>\n",
       "      <td>264.0</td>\n",
       "    </tr>\n",
       "    <tr>\n",
       "      <th>Male</th>\n",
       "      <td>28.596000</td>\n",
       "      <td>5.460858</td>\n",
       "      <td>285.0</td>\n",
       "    </tr>\n",
       "    <tr>\n",
       "      <th rowspan=\"2\" valign=\"top\">(79, 89]</th>\n",
       "      <th>Female</th>\n",
       "      <td>27.515819</td>\n",
       "      <td>5.395693</td>\n",
       "      <td>180.0</td>\n",
       "    </tr>\n",
       "    <tr>\n",
       "      <th>Male</th>\n",
       "      <td>27.558750</td>\n",
       "      <td>4.665266</td>\n",
       "      <td>163.0</td>\n",
       "    </tr>\n",
       "  </tbody>\n",
       "</table>\n",
       "</div>"
      ],
      "text/plain": [
       "                        mean       std   size\n",
       "agegrp   RIAGENDR                            \n",
       "(18, 29] Female    28.082450  7.890613  551.0\n",
       "         Male      27.230677  6.587966  508.0\n",
       "(29, 39] Female    30.208211  8.192074  481.0\n",
       "         Male      29.772422  6.825048  452.0\n",
       "(39, 49] Female    30.922332  7.911045  511.0\n",
       "         Male      29.563409  6.179002  402.0\n",
       "(49, 59] Female    30.864732  7.584018  451.0\n",
       "         Male      29.193807  5.974769  437.0\n",
       "(59, 69] Female    31.029806  7.799010  468.0\n",
       "         Male      29.322426  5.904651  449.0\n",
       "(69, 79] Female    30.489231  6.748410  264.0\n",
       "         Male      28.596000  5.460858  285.0\n",
       "(79, 89] Female    27.515819  5.395693  180.0\n",
       "         Male      27.558750  4.665266  163.0"
      ]
     },
     "metadata": {},
     "output_type": "display_data"
    },
    {
     "name": "stdout",
     "output_type": "stream",
     "text": [
      "bracket 18-29: has a confidence interval from 0.8131332283480447 to 0.8904127716519582\n",
      "bracket 29-39: has a confidence interval from 0.39026685820875145 to 0.48131114179124806\n",
      "bracket 39-49: has a confidence interval from 1.3152911911302 to 1.4025548088698014\n",
      "bracket 49-59: has a confidence interval from 1.6275794969220327 to 1.7142705030779681\n",
      "bracket 59-69: has a confidence interval from 1.6649230853292802 to 1.7498369146707209\n",
      "bracket 69-79: has a confidence interval from 1.8293384568390754 to 1.9571235431609249\n",
      "bracket 79-89: has a confidence interval from -0.12582229381525556 to 0.03996029381525679\n"
     ]
    }
   ],
   "source": [
    "# Calculate the smoking rates within age/gender groups\n",
    "da[\"agegrp\"] = pd.cut(da.RIDAGEYR, [18, 29, 39, 49, 59, 69, 79, 89])\n",
    "da_bracket = da.groupby([\"agegrp\",\"RIAGENDR\"]).agg({\"BMXBMI\":[np.mean, np.std, np.size]})\n",
    "da_bracket.columns = [\"mean\", \"std\", \"size\"]\n",
    "\n",
    "display(da_bracket)\n",
    "\n",
    "se = {\n",
    "    18_29:[(28.082450, 7.890613 / 551.0), (27.230677,6.587966 / 508.0)],\n",
    "    29_39:[(30.208211, 8.192074 / 481.0), (29.772422,6.825048 / 452.0)],\n",
    "    39_49:[(30.922332, 7.911045 / 511.0), (29.563409,6.179002 / 402.0)],\n",
    "    49_59:[(30.864732, 7.584018 / 451.0), (29.193807,5.974769 / 437.0)],\n",
    "    59_69:[(31.029806, 7.799010 / 468.0), (29.322426,5.904651 / 449.0)],\n",
    "    69_79:[(30.489231, 6.748410 / 264.0), (28.596000,5.460858 / 285.0)],\n",
    "    79_89:[(27.515819, 5.395693 / 180.0), (27.558750,4.665266 / 163.0)],\n",
    "     }\n",
    "ci = {}\n",
    "# mean -/+ 1.96 * se\n",
    "for key, gender_se in se.items():\n",
    "    ci_gender = []\n",
    "    for gender in gender_se:\n",
    "        ucb = gender[0] + 1.96 * gender[1]\n",
    "        lcb = gender[0] - 1.96 * gender[1]\n",
    "        ci_gender.append((ucb,lcb))\n",
    "    ci[key] = ci_gender\n",
    "\n",
    "# sem_diff = np.sqrt(sem_female**2 + sem_male**2)\n",
    "sem_diff = {}\n",
    "for key,value in se.items():\n",
    "    sem_diff[key]= {\n",
    "        \"sem diff\": np.sqrt(value[0][1]**2 + value[1][1]**2),\n",
    "        \"female mean\": value[0][0],\n",
    "        \"male mean\": value[1][0]}\n",
    "        \n",
    "    \n",
    "male_female_ci = {}\n",
    "# differences in means\n",
    "# lcb = bmi_diff - 2*sem_diff\n",
    "# ucb = bmi_diff + 2*sem_diff\n",
    "for bracket_key, data_dict in sem_diff.items():\n",
    "    difference_in_means = data_dict[\"female mean\"] - data_dict[\"male mean\"]\n",
    "    lcb = difference_in_means - 2* data_dict[\"sem diff\"]\n",
    "    ucb = difference_in_means + 2* data_dict[\"sem diff\"]\n",
    "    male_female_ci[bracket_key] = (lcb, ucb)\n",
    "    \n",
    "for k, v in male_female_ci.items():\n",
    "    format_key = str(k)[0:2] + \"-\" + str(k)[2:]\n",
    "    print(f\"bracket {format_key}: has a confidence interval from {v[0]} to {v[1]}\")\n",
    "        \n",
    "    "
   ]
  },
  {
   "cell_type": "markdown",
   "metadata": {},
   "source": [
    "__Q4a.__ How do the widths of these confidence intervals differ?  Provide an explanation for any substantial diferences in the confidence interval widths that you see."
   ]
  },
  {
   "cell_type": "markdown",
   "metadata": {},
   "source": []
  },
  {
   "cell_type": "markdown",
   "metadata": {},
   "source": [
    "## Question 5\n",
    "\n",
    "Construct a 95% confidence interval for the first and second systolic blood pressure measures, and for the difference between the first and second systolic blood pressure measurements within a subject."
   ]
  },
  {
   "cell_type": "code",
   "execution_count": 6,
   "metadata": {},
   "outputs": [],
   "source": [
    "# enter code here"
   ]
  },
  {
   "cell_type": "markdown",
   "metadata": {},
   "source": [
    "__Q5a.__ Based on these confidence intervals, would you say that a difference of zero between the population mean values of the first and second systolic blood pressure measures is consistent with the data?"
   ]
  },
  {
   "cell_type": "markdown",
   "metadata": {},
   "source": []
  },
  {
   "cell_type": "markdown",
   "metadata": {},
   "source": [
    "\n",
    "__Q5b.__ Discuss how the width of the confidence interval for the within-subject difference compares to the widths of the confidence intervals for the first and second measures."
   ]
  },
  {
   "cell_type": "markdown",
   "metadata": {},
   "source": []
  },
  {
   "cell_type": "markdown",
   "metadata": {},
   "source": [
    "## Question 6\n",
    "\n",
    "Construct a 95% confidence interval for the mean difference between the average age of a smoker, and the average age of a non-smoker."
   ]
  },
  {
   "cell_type": "code",
   "execution_count": 7,
   "metadata": {},
   "outputs": [],
   "source": [
    "# insert your code here"
   ]
  },
  {
   "cell_type": "markdown",
   "metadata": {},
   "source": [
    "__Q6a.__ Use graphical and numerical techniques to compare the variation in the ages of smokers to the variation in the ages of non-smokers.  "
   ]
  },
  {
   "cell_type": "code",
   "execution_count": 8,
   "metadata": {},
   "outputs": [],
   "source": [
    "# insert your code here"
   ]
  },
  {
   "cell_type": "markdown",
   "metadata": {},
   "source": [
    "__Q6b.__ Does it appear that uncertainty about the mean age of smokers, or uncertainty about the mean age of non-smokers contributed more to the uncertainty for the mean difference that we are focusing on here?"
   ]
  },
  {
   "cell_type": "markdown",
   "metadata": {},
   "source": []
  }
 ],
 "metadata": {
  "kernelspec": {
   "display_name": "Python 3",
   "language": "python",
   "name": "python3"
  },
  "language_info": {
   "codemirror_mode": {
    "name": "ipython",
    "version": 3
   },
   "file_extension": ".py",
   "mimetype": "text/x-python",
   "name": "python",
   "nbconvert_exporter": "python",
   "pygments_lexer": "ipython3",
   "version": "3.9.2"
  }
 },
 "nbformat": 4,
 "nbformat_minor": 2
}
