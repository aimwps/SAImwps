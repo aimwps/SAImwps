{
 "cells": [
  {
   "cell_type": "markdown",
   "metadata": {},
   "source": [
    "![title](./img/1_4.png)\n",
    "- What is the magnitude of αx⃗? \n",
    "- If α>0, will the direction of the resulting vector change?\n",
    "- If α<0, will the direction of the resulting vector change?\n",
    "- If −1<α<1, will ∥αx⃗∥  increase, decrease or stay the same?"
   ]
  },
  {
   "cell_type": "code",
   "execution_count": 1,
   "metadata": {},
   "outputs": [
    {
     "name": "stdout",
     "output_type": "stream",
     "text": [
      "[3 3]\n",
      "[15 15]\n",
      "Magnitude is 21.213203435596427. The direction has not changed\n",
      "[3 3]\n",
      "[-15 -15]\n",
      "Magnitude is 21.213203435596427. The direction has changed\n"
     ]
    }
   ],
   "source": [
    "import numpy as np\n",
    "v1 = np.array([3,3])\n",
    "def alpha_magnitude(alpha, b):\n",
    "    alpha_b = alpha*b\n",
    "    print(b)\n",
    "    print(alpha_b)\n",
    "    if b[0] > 0:\n",
    "        b_sign = 'positive'\n",
    "    else:\n",
    "        b_sign = 'negative'\n",
    "        \n",
    "    if alpha_b[0] > 0:\n",
    "        alpha_b_sign = 'positive'\n",
    "    else:\n",
    "        alpha_b_sign = 'negative'\n",
    "    \n",
    "    if alpha_b_sign == b_sign:\n",
    "        return f\"Magnitude is {np.linalg.norm(alpha_b)}. The direction has not changed\"\n",
    "    else:\n",
    "        return f\"Magnitude is {np.linalg.norm(alpha_b)}. The direction has changed\"\n",
    "    #returns the resulting magnitude, if the direction has changed and what has happened to the vector\n",
    "\n",
    "print(alpha_magnitude(5, v1))\n",
    "print(alpha_magnitude(-5, v1))\n"
   ]
  },
  {
   "cell_type": "code",
   "execution_count": null,
   "metadata": {},
   "outputs": [],
   "source": []
  }
 ],
 "metadata": {
  "kernelspec": {
   "display_name": "Python 3",
   "language": "python",
   "name": "python3"
  },
  "language_info": {
   "codemirror_mode": {
    "name": "ipython",
    "version": 3
   },
   "file_extension": ".py",
   "mimetype": "text/x-python",
   "name": "python",
   "nbconvert_exporter": "python",
   "pygments_lexer": "ipython3",
   "version": "3.9.2"
  }
 },
 "nbformat": 4,
 "nbformat_minor": 2
}
