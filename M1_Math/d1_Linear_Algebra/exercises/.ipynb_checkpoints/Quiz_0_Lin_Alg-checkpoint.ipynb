{
 "cells": [
  {
   "cell_type": "markdown",
   "metadata": {},
   "source": [
    "# Vectors and Matrices\n",
    "Time to work! Do it with numpy first and then if you have time, manually by hand :)"
   ]
  },
  {
   "cell_type": "markdown",
   "metadata": {},
   "source": [
    "## Vectors"
   ]
  },
  {
   "cell_type": "markdown",
   "metadata": {},
   "source": [
    "Lists can be used to represent mathematical vectors. In this exercise and several that follow you will write functions to perform standard operations on vectors. Create a file named vectors.py or use the Jupyter notebook provided\n",
    "\n",
    "Write a function add_vectors(u, v) that takes two lists of numbers of the same length, and returns a new list containing the sums of the corresponding elements of each.\n",
    "\n",
    "**Note that the text in \"\"\" \"\"\" is provided for you to accurately verify that your function works :)**"
   ]
  },
  {
   "cell_type": "code",
   "execution_count": 13,
   "metadata": {},
   "outputs": [
    {
     "name": "stdout",
     "output_type": "stream",
     "text": [
      "[[ 6  6  6]\n",
      " [33 44 55]\n",
      " [ 6 10 14]]\n"
     ]
    }
   ],
   "source": [
    "import numpy as np\n",
    "\n",
    "a = np.array([0,-2,2,5,1,5,1,4,-1]).reshape(3,3)\n",
    "b = np.array([0,1,2,3,4,5,6,7,8]).reshape(3,3)\n",
    "c = np.matmul(a,b)\n",
    "print(c)"
   ]
  },
  {
   "cell_type": "code",
   "execution_count": 3,
   "metadata": {},
   "outputs": [
    {
     "name": "stdout",
     "output_type": "stream",
     "text": [
      "[2, 6]\n"
     ]
    }
   ],
   "source": [
    "def add_vectors(u, v):\n",
    "    \"\"\"\n",
    "      >>> add_vectors([1, 0], [1, 1])\n",
    "      [2, 1]\n",
    "      >>> add_vectors([1, 2], [1, 4])\n",
    "      [2, 6]\n",
    "      >>> add_vectors([1, 2, 1], [1, 4, 3])\n",
    "      [2, 6, 4]\n",
    "      >>> add_vectors([11, 0, -4, 5], [2, -4, 17, 0])\n",
    "      [13, -4, 13, 5]\n",
    "      >>> a = [1, 2, 3]\n",
    "      >>> b = [1, 1, 1]\n",
    "      >>> add_vectors(a, b)\n",
    "      [2, 3, 4]\n",
    "      >>> a\n",
    "      [1, 2, 3]\n",
    "      >>> b\n",
    "      [1, 1, 1]\n",
    "    \"\"\"\n",
    "    output = []\n",
    "    for one,two in zip(u,v):\n",
    "        output.append(one+two)\n",
    "        \n",
    "    return output\n",
    "\n",
    "a = [1,2]\n",
    "b = [1,4]\n",
    "\n",
    "print(add_vectors(a,b))"
   ]
  },
  {
   "cell_type": "markdown",
   "metadata": {},
   "source": [
    "Write a function scalar_mult(s, v) that takes a number, s, and a list, v and returns the [scalar multiple](https://en.wikipedia.org/wiki/Scalar_multiplication) of v by s."
   ]
  },
  {
   "cell_type": "code",
   "execution_count": 8,
   "metadata": {},
   "outputs": [
    {
     "data": {
      "text/plain": [
       "[3, 0, -3]"
      ]
     },
     "execution_count": 8,
     "metadata": {},
     "output_type": "execute_result"
    }
   ],
   "source": [
    "def scalar_mult(s, v):\n",
    "    \"\"\"\n",
    "      >>> scalar_mult(5, [1, 2])\n",
    "      [5, 10]\n",
    "      >>> scalar_mult(3, [1, 0, -1])\n",
    "      [3, 0, -3]\n",
    "      >>> scalar_mult(7, [3, 0, 5, 11, 2])\n",
    "      [21, 0, 35, 77, 14]\n",
    "      >>> a = [1, 2, 3]\n",
    "      >>> scalar_mult(4, a)\n",
    "      [4, 8, 12]\n",
    "      >>> a\n",
    "      [1, 2, 3]\n",
    "    \"\"\"\n",
    "    output = []\n",
    "    for i in v:\n",
    "        output.append(i*s)\n",
    "        \n",
    "    return output\n",
    "\n",
    "scalar_mult(3, [1, 0, -1])"
   ]
  },
  {
   "cell_type": "markdown",
   "metadata": {},
   "source": [
    "Write a function dot_product(u, v) that takes two lists of numbers of the same length, and returns the sum of the products of the corresponding elements of each (the [dot_product](https://en.wikipedia.org/wiki/Dot_product)."
   ]
  },
  {
   "cell_type": "code",
   "execution_count": 14,
   "metadata": {},
   "outputs": [
    {
     "data": {
      "text/plain": [
       "12"
      ]
     },
     "execution_count": 14,
     "metadata": {},
     "output_type": "execute_result"
    }
   ],
   "source": [
    "## find the product of components\n",
    "## add all the products together\n",
    "\n",
    "def dot_product(u, v):\n",
    "    \"\"\"\n",
    "      >>> dot_product([1, 1], [1, 1])\n",
    "      2\n",
    "      >>> dot_product([1, 2], [1, 4])\n",
    "      9\n",
    "      >>> dot_product([1, 2, 1], [1, 4, 3])\n",
    "      12\n",
    "      >>> dot_product([2, 0, -1, 1], [1, 5, 2, 0])\n",
    "      0\n",
    "    \"\"\"\n",
    "    adders =[]\n",
    "    for one, two in zip(u,v):\n",
    "        adders.append(one*two)\n",
    "    return sum(adders)\n",
    "\n"
   ]
  },
  {
   "cell_type": "markdown",
   "metadata": {},
   "source": [
    "## Matrices"
   ]
  },
  {
   "cell_type": "markdown",
   "metadata": {},
   "source": [
    "Create a new module named matrices.py or *use the Jupyter notebook provided* and add the following function, which returns a copy of nested lists of numbers such that the lists are not aliases:"
   ]
  },
  {
   "cell_type": "code",
   "execution_count": 66,
   "metadata": {},
   "outputs": [
    {
     "name": "stdout",
     "output_type": "stream",
     "text": [
      "True\n",
      "False\n"
     ]
    }
   ],
   "source": [
    "def copy_matrix(matrix):\n",
    "    \"\"\"\n",
    "      >>> copy_matrix([[1, 2], [3, 4]])\n",
    "      [[1, 2], [3, 4]]\n",
    "      >>> copy_matrix([[1, 2, 3], [4, 5, 6]])\n",
    "      [[1, 2, 3], [4, 5, 6]]\n",
    "      >>> copy_matrix([[1, 2], [3, 4], [5, 6], [7, 8]])\n",
    "      [[1, 2], [3, 4], [5, 6], [7, 8]]\n",
    "      >>> m = [[1, 0, 0], [0, 2, 0], [0, 0, 3]]\n",
    "      >>> copyofm = copy_matrix(m)\n",
    "      >>> copyofm\n",
    "      [[1, 0, 0], [0, 2, 0], [0, 0, 3]]\n",
    "      >>> for row_num, row in enumerate(copyofm):\n",
    "      ...     for col_num, col_val in enumerate(row):\n",
    "      ...         copyofm[row_num][col_num] = 42\n",
    "      ...\n",
    "      >>> copyofm\n",
    "      [[42, 42, 42], [42, 42, 42], [42, 42, 42]]\n",
    "      >>> m\n",
    "      [[1, 0, 0], [0, 2, 0], [0, 0, 3]]\n",
    "    \"\"\"\n",
    "    copy = []\n",
    "    for r in matrix:\n",
    "        nr = []\n",
    "        for c in r:\n",
    "            nr.append(c)\n",
    "        copy.append(nr)\n",
    "    return copy\n",
    "\n",
    "a = [[0,0,0],[2,3,4],[0,0,0]]\n",
    "c = copy_matrix(a)\n",
    "b = a\n",
    "print(a is b)\n",
    "\n",
    "b = copy_matrix(a)\n",
    "print(a is b) \n",
    "\n"
   ]
  },
  {
   "cell_type": "code",
   "execution_count": 32,
   "metadata": {},
   "outputs": [
    {
     "name": "stdout",
     "output_type": "stream",
     "text": [
      "[[0, 0, 0], [0, 0, 0], [0, 0, 0], [0, 0, 0]]\n"
     ]
    }
   ],
   "source": [
    "def add_row(matrix):\n",
    "    \"\"\"\n",
    "      >>> m = [[0, 0], [0, 0]]\n",
    "      >>> add_row(m)\n",
    "      [[0, 0], [0, 0], [0, 0]]\n",
    "      >>> n = [[3, 2, 5], [1, 4, 7]]\n",
    "      >>> add_row(n)\n",
    "      [[3, 2, 5], [1, 4, 7], [0, 0, 0]]\n",
    "      >>> n\n",
    "      [[3, 2, 5], [1, 4, 7]]\n",
    "    \"\"\"\n",
    "    matrix.append([0 for i in range(len(matrix[0]))])\n",
    "    return matrix\n",
    "\n",
    "m = [[0,0,0],[0,0,0],[0,0,0]]\n",
    "\n",
    "print(add_row(m))"
   ]
  },
  {
   "cell_type": "code",
   "execution_count": 34,
   "metadata": {},
   "outputs": [
    {
     "name": "stdout",
     "output_type": "stream",
     "text": [
      "[[0, 0, 0, 0], [0, 0, 0, 0], [0, 0, 0, 0], [0, 0, 0, 0]]\n"
     ]
    }
   ],
   "source": [
    "def add_column(matrix):\n",
    "    \"\"\"\n",
    "      >>> m = [[0, 0], [0, 0]]\n",
    "      >>> add_column(m)\n",
    "      [[0, 0, 0], [0, 0, 0]]\n",
    "      >>> n = [[3, 2], [5, 1], [4, 7]]\n",
    "      >>> add_column(n)\n",
    "      [[3, 2, 0], [5, 1, 0], [4, 7, 0]]\n",
    "      >>> n\n",
    "      [[3, 2], [5, 1], [4, 7]]\n",
    "    \"\"\"\n",
    "    for row in matrix:\n",
    "        row.append(0)\n",
    "        \n",
    "    return matrix\n",
    "\n",
    "print(add_column(m))"
   ]
  },
  {
   "cell_type": "markdown",
   "metadata": {},
   "source": [
    "Write a function add_matrices(m1, m2) that adds m1 and m2 and returns a new matrix containing their sum. You can assume that m1 and m2 are the same size. You add two matrices by adding their corresponding values."
   ]
  },
  {
   "cell_type": "code",
   "execution_count": 37,
   "metadata": {},
   "outputs": [
    {
     "data": {
      "text/plain": [
       "[[3, 4], [5, 6]]"
      ]
     },
     "execution_count": 37,
     "metadata": {},
     "output_type": "execute_result"
    }
   ],
   "source": [
    "def add_matrices(m1, m2):\n",
    "    \"\"\"\n",
    "      >>> a = [[1, 2],\n",
    "               [3, 4]]\n",
    "      >>> b = [[2, 2], [2, 2]]\n",
    "      >>> add_matrices(a, b)\n",
    "      [[3, 4], [5, 6]]\n",
    "      >>> c = [[8, 2], [3, 4], [5, 7]]\n",
    "      >>> d = [[3, 2], [9, 2], [10, 12]]\n",
    "      >>> add_matrices(c, d)\n",
    "      [[11, 4], [12, 6], [15, 19]]\n",
    "      >>> c\n",
    "      [[8, 2], [3, 4], [5, 7]]\n",
    "      >>> d\n",
    "      [[3, 2], [9, 2], [10, 12]]\n",
    "   \"\"\"\n",
    "    output = []\n",
    "    for rm1,rm2 in zip(m1, m2):\n",
    "        row =[]\n",
    "        for cm1, cm2 in zip(rm1,rm2):\n",
    "            row.append(cm1+cm2)\n",
    "        output.append(row)\n",
    "    return output\n",
    "\n",
    "\n",
    "            \n",
    "a = [[1, 2], [3, 4]]\n",
    "b = [[2, 2], [2, 2]]\n",
    "add_matrices(a, b)           "
   ]
  },
  {
   "cell_type": "markdown",
   "metadata": {},
   "source": [
    "Write a function scalar_mult(s, m) that multiplies a matrix, m, by a scalar, s."
   ]
  },
  {
   "cell_type": "code",
   "execution_count": 44,
   "metadata": {},
   "outputs": [
    {
     "name": "stdout",
     "output_type": "stream",
     "text": [
      "[[3, 6], [9, 12]]\n"
     ]
    }
   ],
   "source": [
    "def scalar_mult(s, m):\n",
    "    \"\"\"\n",
    "      >>> a = [[1, 2], [3, 4]]\n",
    "      >>> scalar_mult(3, a)\n",
    "      [[3, 6], [9, 12]]\n",
    "      >>> b = [[3, 5, 7], [1, 1, 1], [0, 2, 0], [2, 2, 3]]\n",
    "      >>> scalar_mult(10, b)\n",
    "      [[30, 50, 70], [10, 10, 10], [0, 20, 0], [20, 20, 30]]\n",
    "      >>> b\n",
    "      [[3, 5, 7], [1, 1, 1], [0, 2, 0], [2, 2, 3]]\n",
    "    \"\"\"\n",
    "    output = []\n",
    "    for row in m:\n",
    "        new_row= []\n",
    "        for c in row:\n",
    "            new_row.append(c*s)\n",
    "        output.append(new_row)\n",
    "            \n",
    "    return output\n",
    "a=[1, 2], [3, 4]\n",
    "\n",
    "print(scalar_mult(3,a))"
   ]
  },
  {
   "cell_type": "markdown",
   "metadata": {},
   "source": [
    "Write functions row_times_column and matrix_mult:"
   ]
  },
  {
   "cell_type": "code",
   "execution_count": 49,
   "metadata": {},
   "outputs": [
    {
     "data": {
      "text/plain": [
       "19"
      ]
     },
     "execution_count": 49,
     "metadata": {},
     "output_type": "execute_result"
    }
   ],
   "source": [
    "def row_times_column(m1, row, m2, column):\n",
    "    \"\"\"\n",
    "      >>> row_times_column([[1, 2], [3, 4]], 0, [[5, 6], [7, 8]], 0)\n",
    "      19\n",
    "      >>> row_times_column([[1, 2], [3, 4]], 0, [[5, 6], [7, 8]], 1)\n",
    "      22\n",
    "      >>> row_times_column([[1, 2], [3, 4]], 1, [[5, 6], [7, 8]], 0)\n",
    "      43\n",
    "      >>> row_times_column([[1, 2], [3, 4]], 1, [[5, 6], [7, 8]], 1)\n",
    "      50\n",
    "    \"\"\"\n",
    "    using_row = m1[row]\n",
    "    using_col = [col[0] for col in m2]\n",
    "    output = []\n",
    "    for r,c in zip(using_row, using_col):\n",
    "        output.append(r*c)\n",
    "    return sum(output)\n",
    "\n",
    "# m1 [1, 2]\n",
    "#    [3, 4]\n",
    "\n",
    "#m2 [5, 6]\n",
    "#   [7, 8]\n",
    "    \n",
    "row_times_column([[1, 2], [3, 4]], 0, [[5, 6], [7, 8]], 0)  "
   ]
  },
  {
   "cell_type": "code",
   "execution_count": 2,
   "metadata": {},
   "outputs": [
    {
     "data": {
      "text/plain": [
       "[[19, 22], [43, 50]]"
      ]
     },
     "execution_count": 2,
     "metadata": {},
     "output_type": "execute_result"
    }
   ],
   "source": [
    "def matrix_mult(m1, m2):\n",
    "    output =  []\n",
    "    # \"*\" when used with zip, unzips the nested lists, making tuples from the elements in the inner lists\n",
    "        #that are the same size of the original list\n",
    "    zipb = list(zip(*m2))]\n",
    "    \n",
    "    # Loop through each row in the first matrix\n",
    "    for m1_row in m1:\n",
    "        # assign a variable to hold the new elements of that row\n",
    "        row_calc = []\n",
    "        # loop through each row of the reformed second matrix\n",
    "        for m2_row in zipb:\n",
    "            # assign a variable total the calculations for each new element in the output\n",
    "            total = 0\n",
    "            # loop through the m1_row elements and the unzipped m2 elements\n",
    "            for m1_col, m2_col in zip(m1_row, m2_row):\n",
    "                # multiply the values and add them together\n",
    "                total += m1_col*m2_col\n",
    "            # each time a row calculation is finished, add it to the row_calc list. \n",
    "            row_calc.append(total)\n",
    "        # After every row in the zipped m2 has been performed on the current row in m1, append that row to the ouyput\n",
    "        output.append(row_calc)\n",
    "    return output\n",
    "\n",
    "\n",
    "                \n",
    "                \n",
    "        \n",
    "\n",
    "matrix_mult([[1, 2, 3],[4,5,6]], [[7, 8],[9,1], [2,3]])\n",
    "matrix_mult([[1, 2], [3,  4]], [[5, 6], [7, 8]])\n",
    "\n",
    "#    \"\"\"\n",
    "#       >>> matrix_mult([[1, 2], [3,  4]], [[5, 6], [7, 8]])\n",
    "#       [[19, 22], [43, 50]]\n",
    "#       >>> matrix_mult([[1, 2, 3], [4,  5, 6]], [[7, 8], [9, 1], [2, 3]])\n",
    "#       [[31, 19], [85, 55]]\n",
    "#       >>> matrix_mult([[7, 8], [9, 1], [2, 3]], [[1, 2, 3], [4, 5, 6]])\n",
    "#       [[39, 54, 69], [13, 23, 33], [14, 19, 24]]\n",
    "#     \"\"\""
   ]
  },
  {
   "cell_type": "markdown",
   "metadata": {},
   "source": [
    "Write a function transpose that takes a matrix as an argument and returns is transpose:"
   ]
  },
  {
   "cell_type": "code",
   "execution_count": 16,
   "metadata": {},
   "outputs": [
    {
     "name": "stdout",
     "output_type": "stream",
     "text": [
      "[[], [], []]\n"
     ]
    },
    {
     "data": {
      "text/plain": [
       "[[3, 1], [4, 5], [6, 9]]"
      ]
     },
     "execution_count": 16,
     "metadata": {},
     "output_type": "execute_result"
    }
   ],
   "source": [
    "def transpose(m):\n",
    "    mrow = len(m)\n",
    "    mcol = len(m[0])\n",
    "    container = [[] for i in range(mcol)]\n",
    "    for i,row in enumerate(m):\n",
    "        for j, col in enumerate(row):\n",
    "            container[j].append(col)\n",
    "    return container\n",
    "\n",
    "#m = [[3, 4, 6]]\n",
    "m = [[3, 4, 6], [1, 5, 9]]\n",
    "transpose(m)\n",
    "#    \"\"\"\n",
    "#      >>> m = [[3, 4, 6]]\n",
    "#      >>> transpose(m)\n",
    "#      [[3], [4], [6]]\n",
    "#      >>> m\n",
    "#      [3, 4, 6]\n",
    "#      >>> m = [[3, 4, 6], [1, 5, 9]]\n",
    "#      >>> transpose(m)\n",
    "#      [[3, 1], [4, 5], [6, 9]]\n",
    "#    \"\"\"   "
   ]
  },
  {
   "cell_type": "code",
   "execution_count": null,
   "metadata": {},
   "outputs": [],
   "source": []
  }
 ],
 "metadata": {
  "kernelspec": {
   "display_name": "Python 3",
   "language": "python",
   "name": "python3"
  },
  "language_info": {
   "codemirror_mode": {
    "name": "ipython",
    "version": 3
   },
   "file_extension": ".py",
   "mimetype": "text/x-python",
   "name": "python",
   "nbconvert_exporter": "python",
   "pygments_lexer": "ipython3",
   "version": "3.9.2"
  }
 },
 "nbformat": 4,
 "nbformat_minor": 2
}
