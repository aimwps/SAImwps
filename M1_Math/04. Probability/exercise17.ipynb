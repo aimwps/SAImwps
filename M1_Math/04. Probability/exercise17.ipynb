{
 "cells": [
  {
   "cell_type": "markdown",
   "metadata": {},
   "source": [
    "## **Write your answers directly in the cells on this notebook.**\n",
    "\n",
    "### Show the entire process, from the initial fractions to the final result. \n",
    "The probability results must be a decimal value between 0.0 and 1.0. Round your number to the third decimal (e.g 0.574).**"
   ]
  },
  {
   "cell_type": "code",
   "execution_count": 3,
   "metadata": {},
   "outputs": [],
   "source": [
    "def event_probability(event_outcomes, sample_space):\n",
    "    probability = event_outcomes / sample_space\n",
    "    return round(probability, 3)"
   ]
  },
  {
   "cell_type": "markdown",
   "metadata": {},
   "source": [
    "#### Exercise 17: which is the probability of drawing a heart or an ace?"
   ]
  },
  {
   "cell_type": "code",
   "execution_count": 4,
   "metadata": {},
   "outputs": [
    {
     "name": "stdout",
     "output_type": "stream",
     "text": [
      "0.308\n"
     ]
    }
   ],
   "source": [
    "# Calculate the probability of drawing a heart or an ace\n",
    "# Sample Space\n",
    "cards = 52\n",
    "\n",
    "# Outcomes\n",
    "hearts = 13\n",
    "ace = 4\n",
    "hearts_that_are_ace = 1\n",
    "card_we_want = hearts + ace - hearts_that_are_ace\n",
    "\n",
    "# Determine river straight probability\n",
    "print(event_probability(card_we_want, cards))\n"
   ]
  },
  {
   "cell_type": "code",
   "execution_count": null,
   "metadata": {},
   "outputs": [],
   "source": []
  }
 ],
 "metadata": {
  "kernelspec": {
   "display_name": "Python 3",
   "language": "python",
   "name": "python3"
  },
  "language_info": {
   "codemirror_mode": {
    "name": "ipython",
    "version": 3
   },
   "file_extension": ".py",
   "mimetype": "text/x-python",
   "name": "python",
   "nbconvert_exporter": "python",
   "pygments_lexer": "ipython3",
   "version": "3.8.5"
  }
 },
 "nbformat": 4,
 "nbformat_minor": 2
}
