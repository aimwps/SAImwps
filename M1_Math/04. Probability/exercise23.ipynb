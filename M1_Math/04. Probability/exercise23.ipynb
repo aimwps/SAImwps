{
 "cells": [
  {
   "cell_type": "markdown",
   "metadata": {},
   "source": [
    "## **Write your answers directly in the cells on this notebook.**\n",
    "\n",
    "### Show the entire process, from the initial fractions to the final result. \n",
    "The probability results must be a decimal value between 0.0 and 1.0. Round your number to the third decimal (e.g 0.574).**"
   ]
  },
  {
   "cell_type": "markdown",
   "metadata": {},
   "source": [
    "#### Exercise 23: How many different seven-letter arrangements of the letters in the word HEXAGON can be made if each letter is used only once?"
   ]
  },
  {
   "cell_type": "code",
   "execution_count": 1,
   "metadata": {},
   "outputs": [
    {
     "name": "stdout",
     "output_type": "stream",
     "text": [
      "Answer is: 5040\n"
     ]
    }
   ],
   "source": [
    "# The answer is the factorial to the length of the word. \n",
    "\n",
    "# get the number range from the letters in HEAXAGON\n",
    "factorial = [number+1 for number in range(len(\"HEAXGON\"))]\n",
    "\n",
    "# variable to hold the answer\n",
    "answer = 1\n",
    "\n",
    "# loop through the factorial numbers in reverse order\n",
    "for factor in factorial[::-1]:\n",
    "    \n",
    "    #multiply the number by the current factor in the list\n",
    "    answer *= factor\n",
    "    \n",
    "print(f\"Answer is: {answer}\")"
   ]
  },
  {
   "cell_type": "code",
   "execution_count": null,
   "metadata": {},
   "outputs": [],
   "source": []
  }
 ],
 "metadata": {
  "kernelspec": {
   "display_name": "Python 3",
   "language": "python",
   "name": "python3"
  },
  "language_info": {
   "codemirror_mode": {
    "name": "ipython",
    "version": 3
   },
   "file_extension": ".py",
   "mimetype": "text/x-python",
   "name": "python",
   "nbconvert_exporter": "python",
   "pygments_lexer": "ipython3",
   "version": "3.8.5"
  }
 },
 "nbformat": 4,
 "nbformat_minor": 2
}
