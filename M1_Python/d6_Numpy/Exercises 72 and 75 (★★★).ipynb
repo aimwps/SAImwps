{
 "cells": [
  {
   "cell_type": "code",
   "execution_count": 3,
   "id": "complimentary-handbook",
   "metadata": {
    "slideshow": {
     "slide_type": "slide"
    }
   },
   "outputs": [],
   "source": [
    "# Import the needed libraries\n",
    "import numpy as np"
   ]
  },
  {
   "cell_type": "markdown",
   "id": "pacific-kentucky",
   "metadata": {},
   "source": [
    "**72. How to swap two rows of an array?** "
   ]
  },
  {
   "cell_type": "code",
   "execution_count": 5,
   "id": "proper-reservoir",
   "metadata": {},
   "outputs": [
    {
     "name": "stdout",
     "output_type": "stream",
     "text": [
      "[[20 56 36 40 12]\n",
      " [54 81 35  3 39]\n",
      " [32 34 26 90 32]\n",
      " [23 55 99 18 38]\n",
      " [53 77 87 37 54]]\n",
      "\n",
      "\n",
      "[[54 81 35  3 39]\n",
      " [20 56 36 40 12]\n",
      " [32 34 26 90 32]\n",
      " [23 55 99 18 38]\n",
      " [53 77 87 37 54]]\n"
     ]
    }
   ],
   "source": [
    "arr2swap = np.random.randint(100,size=(5,5))\n",
    "print(arr2swap)\n",
    "arr2swap[0], arr2swap[1] = np.copy(arr2swap[1]), np.copy(arr2swap[0])\n",
    "print(\"\\n\")\n",
    "print(arr2swap)"
   ]
  },
  {
   "cell_type": "markdown",
   "id": "outer-encoding",
   "metadata": {},
   "source": [
    "**75. How to compute averages using a sliding window over an array?**"
   ]
  },
  {
   "cell_type": "code",
   "execution_count": null,
   "id": "active-reply",
   "metadata": {},
   "outputs": [],
   "source": []
  }
 ],
 "metadata": {
  "kernelspec": {
   "display_name": "Python 3",
   "language": "python",
   "name": "python3"
  },
  "language_info": {
   "codemirror_mode": {
    "name": "ipython",
    "version": 3
   },
   "file_extension": ".py",
   "mimetype": "text/x-python",
   "name": "python",
   "nbconvert_exporter": "python",
   "pygments_lexer": "ipython3",
   "version": "3.8.5"
  }
 },
 "nbformat": 4,
 "nbformat_minor": 5
}
