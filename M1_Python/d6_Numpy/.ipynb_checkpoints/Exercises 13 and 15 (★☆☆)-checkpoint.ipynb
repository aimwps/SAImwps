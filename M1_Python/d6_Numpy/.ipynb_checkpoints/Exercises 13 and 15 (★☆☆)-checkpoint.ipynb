{
 "cells": [
  {
   "cell_type": "code",
   "execution_count": 3,
   "id": "biological-worcester",
   "metadata": {},
   "outputs": [],
   "source": [
    "# Import the needed libraries\n",
    "import numpy as np"
   ]
  },
  {
   "cell_type": "markdown",
   "id": "champion-greensboro",
   "metadata": {},
   "source": [
    "**13. Create a 10x10 array with random values and find the minimum and maximum values**"
   ]
  },
  {
   "cell_type": "code",
   "execution_count": 4,
   "id": "joint-explorer",
   "metadata": {},
   "outputs": [
    {
     "name": "stdout",
     "output_type": "stream",
     "text": [
      "maximum value is 2.014825415715949\n",
      "minimum value is -2.916748177759781\n",
      "[[ 0.04863698  1.58681351  0.59842702 -1.21700444  0.91562851 -0.48122581\n",
      "  -0.37742558 -0.7714832   0.25347437  0.45621805]\n",
      " [ 0.38555729 -0.1136859   1.56242068 -0.34801369 -1.1538212  -1.35051838\n",
      "  -0.39018193 -0.2802821   0.07574796  1.73060254]\n",
      " [-0.03786201  1.19556726  0.3490163  -0.04015848 -0.59399579 -0.21325472\n",
      "   1.84275634 -0.95846553 -0.48030953  1.52089585]\n",
      " [ 0.15093032  1.53028733  0.21526647  0.11247035 -0.55666657 -0.39044945\n",
      "   0.39630432 -1.6543171  -0.76455592 -0.36863479]\n",
      " [ 0.05696636  0.41903364  0.95049852  0.08193434 -0.83966584 -0.36476532\n",
      "   0.16315656 -0.49266135 -0.19683181 -1.5090336 ]\n",
      " [-0.31358615  0.74823815 -0.33570524  2.01482542  1.25468888 -0.87110397\n",
      "  -0.34122656 -0.10108395  1.92137102  0.228059  ]\n",
      " [ 0.31140258 -0.14668298 -0.19316665 -1.87737308  0.61515073  0.45378341\n",
      "  -0.80210658 -0.8812024   0.73557469 -0.991404  ]\n",
      " [-2.91674818 -1.01521212 -0.64847298 -1.15983884 -1.20872017 -0.16890474\n",
      "   0.77568686  0.6952945   0.73355555 -0.95656393]\n",
      " [ 0.77762037  1.91218508  1.75891226 -0.05074689  0.00835773  0.8864209\n",
      "  -0.09782003  1.03495875  0.30523595 -0.01609042]\n",
      " [-0.35837586  0.61593189 -1.02604269  1.24806555  0.84477058  1.83234874\n",
      "  -0.16974402 -0.02837844  1.53279149 -0.57594405]]\n"
     ]
    }
   ],
   "source": [
    "random_10_cube = np.random.normal(size=(10,10))\n",
    "print(f\"maximum value is {np.max(random_10_cube)}\")\n",
    "print(f\"minimum value is {np.min(random_10_cube)}\")\n",
    "print(random_10_cube)"
   ]
  },
  {
   "cell_type": "markdown",
   "id": "exempt-organ",
   "metadata": {},
   "source": [
    "**15. Create a 2d array with 1 on the border and 0 inside**"
   ]
  },
  {
   "cell_type": "code",
   "execution_count": 13,
   "id": "sufficient-facility",
   "metadata": {},
   "outputs": [
    {
     "name": "stdout",
     "output_type": "stream",
     "text": [
      "\n",
      " --------------- \n",
      "This is original grid\n",
      "--------------- \n",
      "\n",
      "[[1. 1. 1. 1. 1.]\n",
      " [1. 1. 1. 1. 1.]\n",
      " [1. 1. 1. 1. 1.]\n",
      " [1. 1. 1. 1. 1.]\n",
      " [1. 1. 1. 1. 1.]]\n",
      "\n",
      " --------------- \n",
      "This is the one to review\n",
      "--------------- \n",
      "\n",
      "[[1. 1. 1. 1. 1.]\n",
      " [1. 0. 0. 0. 1.]\n",
      " [1. 0. 0. 0. 1.]\n",
      " [1. 0. 0. 0. 1.]\n",
      " [1. 1. 1. 1. 1.]]\n",
      "\n",
      " --------------- \n",
      "this is a visualisation of how the row slicing is working\n",
      " --------------- \n",
      "\n",
      "[[1. 0. 0. 0. 1.]\n",
      " [1. 0. 0. 0. 1.]\n",
      " [1. 0. 0. 0. 1.]]\n",
      "\n",
      " --------------- \n",
      "this is a visualisation of how the column slicing is working\n",
      " --------------- \n",
      "\n",
      "[[0. 0. 0.]\n",
      " [0. 0. 0.]\n",
      " [0. 0. 0.]]\n"
     ]
    }
   ],
   "source": [
    "#Create an array of 1's\n",
    "print(\"\\n --------------- \")\n",
    "print(\"This is original grid\")\n",
    "print(\"--------------- \\n\")\n",
    "grid = np.ones((5,5))\n",
    "print(grid)\n",
    "\n",
    "# This performs the action. It's easier to see once the zeroes have been put in.\n",
    "print(\"\\n --------------- \")\n",
    "print(\"This is the one to review\")\n",
    "print(\"--------------- \\n\")\n",
    "grid[1:-1, 1:-1] = 0\n",
    "print(grid)\n",
    "\n",
    "# explains what the slicing is doing the first [1:-1] selects every row except the first and last\n",
    "print(\"\\n --------------- \")\n",
    "print(\"this is a visualisation of how the row slicing is working\")\n",
    "print(\" --------------- \\n\")\n",
    "print(grid[1:-1])\n",
    "\n",
    "# from the remaining selection it slices every column except the first and last\n",
    "print(\"\\n --------------- \")\n",
    "print(\"this is a visualisation of how the column slicing is working\")\n",
    "print(\" --------------- \\n\")\n",
    "print(grid[1:-1, 1:-1])\n"
   ]
  },
  {
   "cell_type": "code",
   "execution_count": null,
   "id": "tamil-fashion",
   "metadata": {},
   "outputs": [],
   "source": []
  }
 ],
 "metadata": {
  "kernelspec": {
   "display_name": "Python 3",
   "language": "python",
   "name": "python3"
  },
  "language_info": {
   "codemirror_mode": {
    "name": "ipython",
    "version": 3
   },
   "file_extension": ".py",
   "mimetype": "text/x-python",
   "name": "python",
   "nbconvert_exporter": "python",
   "pygments_lexer": "ipython3",
   "version": "3.9.2"
  }
 },
 "nbformat": 4,
 "nbformat_minor": 5
}
