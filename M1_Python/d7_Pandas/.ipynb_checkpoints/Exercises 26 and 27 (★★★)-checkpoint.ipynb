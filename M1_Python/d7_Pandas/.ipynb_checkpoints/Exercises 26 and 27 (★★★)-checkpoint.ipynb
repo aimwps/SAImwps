{
 "cells": [
  {
   "cell_type": "code",
   "execution_count": 2,
   "id": "comic-license",
   "metadata": {},
   "outputs": [],
   "source": [
    "# import the needed libraries and datasets\n",
    "import pandas as pd\n",
    "import numpy as np"
   ]
  },
  {
   "cell_type": "markdown",
   "id": "after-lithuania",
   "metadata": {},
   "source": [
    "**26.** You have a DataFrame that consists of 10 columns of floating--point numbers. Suppose that exactly 5 entries in each row are NaN values. For each row of the DataFrame, find the *column* which contains the *third* NaN value.\n",
    "\n",
    "(You should return a Series of column labels. Try not to use `.iterrows()`)"
   ]
  },
  {
   "cell_type": "code",
   "execution_count": 26,
   "id": "supported-bicycle",
   "metadata": {},
   "outputs": [
    {
     "name": "stdout",
     "output_type": "stream",
     "text": [
      "    1    2    3    4    5    6   7    8    9    10\n",
      "0  NaN  NaN  NaN  1.0  1.0  1.0   1  1.0  1.0  1.0\n",
      "1  2.0  2.0  2.0  NaN  2.0  NaN   2  NaN  2.0  NaN\n",
      "2  NaN  3.0  NaN  3.0  NaN  3.0   3  3.0  3.0  3.0\n",
      "3  4.0  NaN  4.0  NaN  4.0  NaN   4  NaN  4.0  4.0\n",
      "4  5.0  5.0  5.0  NaN  5.0  NaN   5  NaN  NaN  5.0\n",
      "   1   2   3   4   5   6   7   8   9   10\n",
      "0   1   2   3   3   3   3   3   3   3   3\n",
      "1   0   0   0   1   1   2   2   3   3   4\n",
      "2   1   1   2   2   3   3   3   3   3   3\n",
      "3   0   1   1   2   2   3   3   4   4   4\n",
      "4   0   0   0   1   1   2   2   3   4   4\n"
     ]
    }
   ],
   "source": [
    "data = {\n",
    "1:[np.nan,2,np.nan,4,5],\n",
    "2:[np.nan,2,3,np.nan,5],\n",
    "3:[np.nan,2,np.nan,4,5],\n",
    "4:[1,np.nan,3,np.nan,np.nan],\n",
    "5:[1,2,np.nan,4,5],\n",
    "6:[1,np.nan,3,np.nan,np.nan],\n",
    "7:[1,2,3,4,5],\n",
    "8:[1,np.nan,3,np.nan,np.nan],\n",
    "9:[1,2,3,4,np.nan],\n",
    "10:[1,np.nan,3,4,5]}\n",
    "df = pd.DataFrame(data)\n",
    "print(df.head())\n",
    "print(df.isna().cumsum(axis=1))"
   ]
  },
  {
   "cell_type": "code",
   "execution_count": 28,
   "id": "asian-thought",
   "metadata": {},
   "outputs": [
    {
     "name": "stdout",
     "output_type": "stream",
     "text": [
      "0    2\n",
      "1    7\n",
      "2    4\n",
      "3    5\n",
      "4    7\n",
      "dtype: int64\n"
     ]
    }
   ],
   "source": [
    "\n",
    "# Create a pd series comprised from an np.array generarated by;\n",
    "## np.argmax returns the index of based on the given argument that does:\n",
    "## finds the Nan Values in df\n",
    "## cumsum = cumialiative sum along the 1 axis (each column) adding each time it finds Nan..\n",
    "\n",
    "## Uncomment below to visualise last comment\n",
    "#print(df.isna().cumsum(axis=1))\n",
    "\n",
    "### until the cumuliative sum equals (.eq) 3\n",
    "x = pd.Series(np.argmax(df.isna().cumsum(axis=1).eq(3).values, axis=1))\n",
    "print(x)"
   ]
  },
  {
   "cell_type": "markdown",
   "id": "severe-count",
   "metadata": {},
   "source": [
    "**27.** A DataFrame has a column of groups 'grps' and and column of numbers 'vals'. For example: \n",
    "\n",
    "```python\n",
    "df = pd.DataFrame({'grps': list('aaabbcaabcccbbc'), \n",
    "                   'vals': [12,345,3,1,45,14,4,52,54,23,235,21,57,3,87]})\n",
    "```\n",
    "For each *group*, find the sum of the three greatest values."
   ]
  },
  {
   "cell_type": "code",
   "execution_count": 31,
   "id": "czech-superior",
   "metadata": {},
   "outputs": [
    {
     "data": {
      "text/plain": [
       "grps\n",
       "a    409\n",
       "b    156\n",
       "c    345\n",
       "dtype: int64"
      ]
     },
     "execution_count": 31,
     "metadata": {},
     "output_type": "execute_result"
    }
   ],
   "source": [
    "df = pd.DataFrame({'grps': list('aaabbcaabcccbbc'), \n",
    "                   'vals': [12,345,3,1,45,14,4,52,54,23,235,21,57,3,87]})\n",
    "# group by the grps column\n",
    "# for each group apply a function\n",
    "# that takes the values of the group finds the 3 largest using nlargest\n",
    "# and sums the results. \n",
    "df.groupby('grps').apply(lambda x: x.vals.nlargest(3).sum())\n"
   ]
  },
  {
   "cell_type": "code",
   "execution_count": null,
   "id": "continent-liechtenstein",
   "metadata": {},
   "outputs": [],
   "source": []
  }
 ],
 "metadata": {
  "kernelspec": {
   "display_name": "Python 3",
   "language": "python",
   "name": "python3"
  },
  "language_info": {
   "codemirror_mode": {
    "name": "ipython",
    "version": 3
   },
   "file_extension": ".py",
   "mimetype": "text/x-python",
   "name": "python",
   "nbconvert_exporter": "python",
   "pygments_lexer": "ipython3",
   "version": "3.8.5"
  }
 },
 "nbformat": 4,
 "nbformat_minor": 5
}
